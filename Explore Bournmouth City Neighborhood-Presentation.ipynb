{
    "nbformat_minor": 1, 
    "cells": [
        {
            "source": "# Explore City of Bournmouth for potential re-location opportunity", 
            "cell_type": "markdown", 
            "metadata": {
                "collapsed": true
            }
        }, 
        {
            "source": "## Introduction", 
            "cell_type": "markdown", 
            "metadata": {}
        }, 
        {
            "source": "    Problem Statement:\n    The request from a customer is to re-locate to UnitedKingdom to the city of Bournmouth.\n    His Family likes to be in a City with lots of Neighbourhoods and People and Businesses.\n    They want to open a Business and hoping to settle in a decent Neighbood with good income\n    from the business\n    \n    The family would like to know if re-locating to the Bournmouth city fits their criteria.", 
            "cell_type": "markdown", 
            "metadata": {}
        }, 
        {
            "source": "## Explore and Answer the following questions", 
            "cell_type": "markdown", 
            "metadata": {}
        }, 
        {
            "source": "    1. Explore the Neighborhood and determine if there is any value in migrating to this location. \n      (If there are too few opportunities, this is not the right city)\n    2. Cluster the like Neighborhoods and determine the top few venues for each Neighborhood\n    3. What are the recommendations for business opportunities\n      (To find the top 5 business that local population prefer)", 
            "cell_type": "markdown", 
            "metadata": {}
        }, 
        {
            "source": "# Results", 
            "cell_type": "markdown", 
            "metadata": {}
        }, 
        {
            "source": "    After analyzing all the Neighborhoods, following are the most common venues found:\n    1. Pub\n    2. German Restaurant\n    3. Grocery Stores\n    4. Supermarket", 
            "cell_type": "markdown", 
            "metadata": {}
        }, 
        {
            "source": "# Conclusions", 
            "cell_type": "markdown", 
            "metadata": {}
        }, 
        {
            "source": "    The City of Bournmouth have many Neighborhoods and good flourishing Businesses.\n    A good location to start a Business would be in the Neighboods of Bournmouth or Poole or Verwood\n    The best business that are guranteed to succeed are:\n        a. Pub\n        b. German Restaurant\n        c. Supermarket and/or Grocery Store", 
            "cell_type": "markdown", 
            "metadata": {}
        }
    ], 
    "metadata": {
        "kernelspec": {
            "display_name": "Python 3.5", 
            "name": "python3", 
            "language": "python"
        }, 
        "language_info": {
            "mimetype": "text/x-python", 
            "nbconvert_exporter": "python", 
            "version": "3.5.5", 
            "name": "python", 
            "file_extension": ".py", 
            "pygments_lexer": "ipython3", 
            "codemirror_mode": {
                "version": 3, 
                "name": "ipython"
            }
        }
    }, 
    "nbformat": 4
}