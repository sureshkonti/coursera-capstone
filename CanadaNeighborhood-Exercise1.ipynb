{
    "nbformat_minor": 2, 
    "cells": [
        {
            "source": "# Explore and Cluster Canada Neighborhood - Part1", 
            "cell_type": "markdown", 
            "metadata": {}
        }, 
        {
            "execution_count": 1, 
            "cell_type": "code", 
            "metadata": {}, 
            "outputs": [
                {
                    "output_type": "stream", 
                    "name": "stdout", 
                    "text": "Import completed\n"
                }
            ], 
            "source": "from bs4 import BeautifulSoup\nimport requests\nimport pandas as pd\nimport numpy as np\n\nprint(\"Import completed\")"
        }, 
        {
            "execution_count": 2, 
            "cell_type": "code", 
            "metadata": {}, 
            "outputs": [
                {
                    "execution_count": 2, 
                    "metadata": {}, 
                    "data": {
                        "text/html": "<div>\n<style scoped>\n    .dataframe tbody tr th:only-of-type {\n        vertical-align: middle;\n    }\n\n    .dataframe tbody tr th {\n        vertical-align: top;\n    }\n\n    .dataframe thead th {\n        text-align: right;\n    }\n</style>\n<table border=\"1\" class=\"dataframe\">\n  <thead>\n    <tr style=\"text-align: right;\">\n      <th></th>\n      <th>Postal Code</th>\n      <th>Borough</th>\n      <th>Neighborhood</th>\n    </tr>\n  </thead>\n  <tbody>\n    <tr>\n      <th>0</th>\n      <td>M1B</td>\n      <td>Scarborough</td>\n      <td>Rouge,Malvern</td>\n    </tr>\n    <tr>\n      <th>1</th>\n      <td>M1C</td>\n      <td>Scarborough</td>\n      <td>Highland Creek,Rouge Hill,Port Union</td>\n    </tr>\n    <tr>\n      <th>2</th>\n      <td>M1E</td>\n      <td>Scarborough</td>\n      <td>Guildwood,Morningside,West Hill</td>\n    </tr>\n    <tr>\n      <th>3</th>\n      <td>M1G</td>\n      <td>Scarborough</td>\n      <td>Woburn</td>\n    </tr>\n    <tr>\n      <th>4</th>\n      <td>M1H</td>\n      <td>Scarborough</td>\n      <td>Cedarbrae</td>\n    </tr>\n  </tbody>\n</table>\n</div>", 
                        "text/plain": "  Postal Code      Borough                          Neighborhood\n0         M1B  Scarborough                         Rouge,Malvern\n1         M1C  Scarborough  Highland Creek,Rouge Hill,Port Union\n2         M1E  Scarborough       Guildwood,Morningside,West Hill\n3         M1G  Scarborough                                Woburn\n4         M1H  Scarborough                             Cedarbrae"
                    }, 
                    "output_type": "execute_result"
                }
            ], 
            "source": "##Initialize lists\nP1 = []\nB1 = []\nN1 = []\n\nr = requests.get(\"https://en.wikipedia.org/wiki/List_of_postal_codes_of_Canada:_M\")\nsoup = BeautifulSoup(r.text, \"lxml\")\n\n#data = soup.find(class_='wikitable sortable').find_all('td')\n#print(len(data))\n\n#new_table = pd.DataFrame(columns=range(0,3), index = [0])\n\ndata = soup.find(class_='wikitable sortable')\nfor row in data.find_all('tr'):\n    #print(\"row start\")\n    columns = row.find_all('td')\n    #print(columns)\n    if len(columns) > 0:\n        #print(columns)\n        P = columns[0].text.strip()\n        B = columns[1].text.strip()\n        N = columns[2].text.strip()\n        if not 'Not assigned' in B:\n            if 'Not assigned' in N:\n                B = N\n            #print(P,B,N)\n            P1.append(P)\n            B1.append(B)\n            N1.append(N)\n \ndf = {}\ndf = pd.DataFrame({'Postal Code':P1, 'Borough':B1, 'Neighborhood':N1})      \n#df1 = df[['PostalCode','Borough','Neighborhood']].groupby(['PostalCode','Borough']).Neighborhood.unique().reset_index()\n\ndf1 = df[['Postal Code','Borough','Neighborhood']].groupby(['Postal Code','Borough'])['Neighborhood'].apply(','.join).reset_index()\ndf1.head()"
        }, 
        {
            "execution_count": 3, 
            "cell_type": "code", 
            "metadata": {}, 
            "outputs": [
                {
                    "execution_count": 3, 
                    "metadata": {}, 
                    "data": {
                        "text/plain": "(103, 3)"
                    }, 
                    "output_type": "execute_result"
                }
            ], 
            "source": "df1.shape"
        }
    ], 
    "metadata": {
        "kernelspec": {
            "display_name": "Python 3.5", 
            "name": "python3", 
            "language": "python"
        }, 
        "language_info": {
            "mimetype": "text/x-python", 
            "nbconvert_exporter": "python", 
            "version": "3.5.5", 
            "name": "python", 
            "file_extension": ".py", 
            "pygments_lexer": "ipython3", 
            "codemirror_mode": {
                "version": 3, 
                "name": "ipython"
            }
        }
    }, 
    "nbformat": 4
}