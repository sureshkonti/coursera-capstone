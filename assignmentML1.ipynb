{
    "nbformat_minor": 1, 
    "cells": [
        {
            "source": "This is the first assgiment for the Coursera course \"Advanced Machine Learning and Signal Processing\"\n\nThe first step is to insert the credentials to the Apache CouchDB / Cloudant database where your sensor data ist stored to. \n\n1. In the project's overview tab of this project just select \"Add to project\"->Connection\n2. From the section \"Your service instances in IBM Cloud\" select your cloudant database and click on \"create\"\n3. Now click in the empty cell below labeled with \"your cloudant credentials go here\"\n4. Click on the \"10-01\" symbol top right and selecrt the \"Connections\" tab\n5. Find your data base connection and click on \"Insert to code\"\n\nThe following video illustrates this process: https://www.youtube.com/watch?v=dCawUGv7qgs\n\nDone, just execute all cells one after the other and you are done - just note that in the last one you have to update your email address (the one you've used for coursera) and obtain a submittion token, you get this from the programming assingment directly on coursera.", 
            "cell_type": "markdown", 
            "metadata": {}
        }, 
        {
            "execution_count": 5, 
            "cell_type": "code", 
            "metadata": {}, 
            "outputs": [], 
            "source": "# The code was removed by Watson Studio for sharing."
        }, 
        {
            "execution_count": 6, 
            "cell_type": "code", 
            "metadata": {}, 
            "outputs": [], 
            "source": "spark = SparkSession\\\n    .builder\\\n    .appName(\"Cloudant Spark SQL Example in Python using temp tables\")\\\n    .config(\"cloudant.host\",credentials_1['custom_url'].split('@')[1])\\\n    .config(\"cloudant.username\", credentials_1['username'])\\\n    .config(\"cloudant.password\",credentials_1['password'])\\\n    .config(\"jsonstore.rdd.partitions\", 1)\\\n    .getOrCreate()"
        }, 
        {
            "execution_count": 7, 
            "cell_type": "code", 
            "metadata": {}, 
            "outputs": [
                {
                    "output_type": "stream", 
                    "name": "stdout", 
                    "text": "+-----+-----------+-----+-----+-----+--------------------+--------------------+\n|CLASS|   SENSORID|    X|    Y|    Z|                 _id|                _rev|\n+-----+-----------+-----+-----+-----+--------------------+--------------------+\n|    0|sureshkonti| 0.12| 0.12| 0.12|001fd4da2a1ced55e...|1-48da96c7eff34b0...|\n|    0|sureshkonti| -0.1| -0.1| -0.1|001fd4da2a1ced55e...|1-c854a57333f5711...|\n|    0|sureshkonti|-0.07|-0.07|-0.07|001fd4da2a1ced55e...|1-1015ae3482d1a49...|\n|    0|sureshkonti| 0.03| 0.03| 0.03|001fd4da2a1ced55e...|1-9647037255379a9...|\n|    0|sureshkonti|  0.0|  0.0|  0.0|001fd4da2a1ced55e...|1-2a25fd372080ae8...|\n|    0|sureshkonti| 0.02| 0.02| 0.02|001fd4da2a1ced55e...|1-1c49d97df351352...|\n|    0|sureshkonti|-0.04|-0.04|-0.04|001fd4da2a1ced55e...|1-af1918140cd8f23...|\n|    0|sureshkonti|-0.01|-0.01|-0.01|001fd4da2a1ced55e...|1-a846f4a8fc6df15...|\n|    0|sureshkonti| 0.04| 0.04| 0.04|001fd4da2a1ced55e...|1-81bce49058c6305...|\n|    0|sureshkonti|  0.0|  0.0|  0.0|001fd4da2a1ced55e...|1-2a25fd372080ae8...|\n|    0|sureshkonti| 0.02| 0.02| 0.02|001fd4da2a1ced55e...|1-1c49d97df351352...|\n|    0|sureshkonti| 0.08| 0.08| 0.08|001fd4da2a1ced55e...|1-89c5bf1c4cd6bcc...|\n|    0|sureshkonti|  0.0|  0.0|  0.0|001fd4da2a1ced55e...|1-2a25fd372080ae8...|\n|    0|sureshkonti|-0.03|-0.03|-0.03|001fd4da2a1ced55e...|1-83e38d26b9b1e0a...|\n|    0|sureshkonti| 0.01| 0.01| 0.01|001fd4da2a1ced55e...|1-f9f148dc923770a...|\n|    0|sureshkonti| 0.55| 0.55| 0.55|001fd4da2a1ced55e...|1-8949aedadc3040e...|\n|    0|sureshkonti|-0.04|-0.04|-0.04|001fd4da2a1ced55e...|1-af1918140cd8f23...|\n|    0|sureshkonti| 0.32| 0.32| 0.32|001fd4da2a1ced55e...|1-733ba9cb8c57d54...|\n|    0|sureshkonti| -0.1| -0.1| -0.1|001fd4da2a1ced55e...|1-c854a57333f5711...|\n|    0|sureshkonti|  0.3|  0.3|  0.3|001fd4da2a1ced55e...|1-4ae538c110d549f...|\n+-----+-----------+-----+-----+-----+--------------------+--------------------+\nonly showing top 20 rows\n\n"
                }
            ], 
            "source": "df=spark.read.load('shake', \"com.cloudant.spark\")\n\ndf.createOrReplaceTempView(\"df\")\nspark.sql(\"SELECT * from df\").show()\n"
        }, 
        {
            "execution_count": 8, 
            "cell_type": "code", 
            "metadata": {}, 
            "outputs": [], 
            "source": "!rm -Rf a2_m1.parquet"
        }, 
        {
            "execution_count": 9, 
            "cell_type": "code", 
            "metadata": {}, 
            "outputs": [], 
            "source": "df = df.repartition(1)\ndf.write.json('a2_m1.json')"
        }, 
        {
            "execution_count": 10, 
            "cell_type": "code", 
            "metadata": {}, 
            "outputs": [
                {
                    "output_type": "stream", 
                    "name": "stdout", 
                    "text": "--2019-01-12 17:15:08--  https://raw.githubusercontent.com/romeokienzler/developerWorks/master/coursera/ai/rklib.py\nResolving raw.githubusercontent.com (raw.githubusercontent.com)... 151.101.48.133\nConnecting to raw.githubusercontent.com (raw.githubusercontent.com)|151.101.48.133|:443... connected.\nHTTP request sent, awaiting response... 200 OK\nLength: 2289 (2.2K) [text/plain]\nSaving to: \u2018rklib.py\u2019\n\n100%[======================================>] 2,289       --.-K/s   in 0s      \n\n2019-01-12 17:15:08 (16.3 MB/s) - \u2018rklib.py\u2019 saved [2289/2289]\n\n"
                }
            ], 
            "source": "!rm -f rklib.py\n!wget https://raw.githubusercontent.com/romeokienzler/developerWorks/master/coursera/ai/rklib.py"
        }, 
        {
            "execution_count": 11, 
            "cell_type": "code", 
            "metadata": {}, 
            "outputs": [
                {
                    "output_type": "stream", 
                    "name": "stdout", 
                    "text": "  adding: a2_m1.json/ (stored 0%)\r\n  adding: a2_m1.json/part-00000-0039392f-539a-4933-88f3-2e9d9287c86e.json (deflated 90%)\r\n  adding: a2_m1.json/_SUCCESS (stored 0%)\r\n  adding: a2_m1.json/._SUCCESS.crc (stored 0%)\r\n  adding: a2_m1.json/.part-00000-0039392f-539a-4933-88f3-2e9d9287c86e.json.crc (stored 0%)\r\n"
                }
            ], 
            "source": "!zip -r a2_m1.json.zip a2_m1.json"
        }, 
        {
            "execution_count": 12, 
            "cell_type": "code", 
            "metadata": {}, 
            "outputs": [], 
            "source": "!base64 a2_m1.json.zip > a2_m1.json.zip.base64"
        }, 
        {
            "execution_count": 15, 
            "cell_type": "code", 
            "metadata": {}, 
            "outputs": [
                {
                    "output_type": "stream", 
                    "name": "stdout", 
                    "text": "Submission successful, please check on the coursera grader page for the status\n-------------------------\n{\"elements\":[{\"itemId\":\"O8C69\",\"id\":\"f_F-qCtuEei_fRLwaVDk3g~O8C69~hm1psBbAEemYWBLwY5cAqg\",\"courseId\":\"f_F-qCtuEei_fRLwaVDk3g\"}],\"paging\":{},\"linked\":{}}\n-------------------------\n"
                }
            ], 
            "source": "from rklib import submit\nkey = \"1injH2F0EeiLlRJ3eJKoXA\"\npart = \"wNLDt\"\nemail = \"suresh.konti@yahoo.com\"\n#secret = \"LmH3xl5RfXEcpMMb\"\nsecret = \"zfIDtDOVtjnWi5zT\"\n\nwith open('a2_m1.json.zip.base64', 'r') as myfile:\n    data=myfile.read()\nsubmit(email, secret, key, part, [part], data)"
        }, 
        {
            "execution_count": null, 
            "cell_type": "code", 
            "metadata": {}, 
            "outputs": [], 
            "source": ""
        }
    ], 
    "metadata": {
        "kernelspec": {
            "display_name": "Python 3.5 with Spark 2.1", 
            "name": "python3-spark21", 
            "language": "python"
        }, 
        "language_info": {
            "mimetype": "text/x-python", 
            "nbconvert_exporter": "python", 
            "version": "3.5.4", 
            "name": "python", 
            "file_extension": ".py", 
            "pygments_lexer": "ipython3", 
            "codemirror_mode": {
                "version": 3, 
                "name": "ipython"
            }
        }
    }, 
    "nbformat": 4
}