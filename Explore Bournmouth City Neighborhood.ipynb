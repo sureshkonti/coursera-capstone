{
    "nbformat_minor": 1, 
    "cells": [
        {
            "source": "# INTRODUCTION", 
            "cell_type": "markdown", 
            "metadata": {
                "collapsed": true
            }
        }, 
        {
            "source": "## Problem Statement", 
            "cell_type": "markdown", 
            "metadata": {}
        }, 
        {
            "source": "A friend would like to re-locate to UnitedKingdom, specifically to the City\nof Bournmouth. He wants to settle down there and have a stable income.\nThe request is explore the city if Bournmouth and come-up with different\nneighborhoods in the city and the top few business that work best in the city.", 
            "cell_type": "markdown", 
            "metadata": {}
        }, 
        {
            "source": "## QUESTIONS", 
            "cell_type": "markdown", 
            "metadata": {}
        }, 
        {
            "source": "    1. Explore the Neighborhood and determine if there is any value in migrating to this location. \n      (If there are too few opportunities, this is not the right city)\n    2. Cluster the like Neighborhoods and determine the top few venues for each Neighborhood\n    3. What are the recommendations for a business opportunities.\n      ( To find the top 5 business that local population prefer)", 
            "cell_type": "markdown", 
            "metadata": {}
        }, 
        {
            "source": "    The output from data will be the following:\n        List of different Neighborhoods\n        How the Neighborhoods compare to each other\n        Business that perform better in each of the Neighborhoods", 
            "cell_type": "markdown", 
            "metadata": {}
        }, 
        {
            "source": "# METHODOLOGY", 
            "cell_type": "markdown", 
            "metadata": {}
        }, 
        {
            "source": "The data to begin the analysis will be obtained from Wikipedia:\n    \nhttps://en.wikipedia.org/wiki/BH_postcode_area\n", 
            "cell_type": "markdown", 
            "metadata": {}
        }, 
        {
            "source": "    This above link contains the postal-code district, Local-town and Neighborhoods.\n    The postal code is be used to obtain the Latitude and Longitude location.\n    Local Towns are grouped together to form a like cluster\n    The neigborhoods detais i.e the venues are obtained using Foursquare API credentials.", 
            "cell_type": "markdown", 
            "metadata": {}
        }, 
        {
            "source": "#### Methodology Details:\n    - To scrape the Wikipedia page we use the Python BeautifulSoup module to get the PostalCode,\n      Borough and Neighboods\n    - Then we obtain the latitude and longitude values using geolocator module\n    - Obtain the Venue details for each of the Neighborhoods using Foursquare APIs\n    - Next we get the top 10 Venue with-in a span of 1000 meters\n    - We check the Venues and Categorize them appropriately and normalize the data\n    - We then find the top 5 Venues for each of the Neighborhoods\n    - Then categorize all Neighboods with top 5 venues\n    - We then use K-means to Cluster the Neighborhoods that are similar\n    - This is then marked onto the map as cluster of Neighborhoods\n    - Now we have sufficient data to examine the top 5 Neighborhood clusters", 
            "cell_type": "markdown", 
            "metadata": {}
        }, 
        {
            "source": "# RESULTS\n", 
            "cell_type": "markdown", 
            "metadata": {}
        }, 
        {
            "source": "In the Results section, We have categorized the Neighborhoods into 5 clusters", 
            "cell_type": "markdown", 
            "metadata": {}
        }, 
        {
            "source": "    Cluster-1 contains only one Borough ChristChurch\n    Cluster-2 contains Borunmouth, Poole and few others\n    Cluster-3 contains Bournmouth and Pools\n    Cluster-4 contains New Milton\n    Cluster-5 contains Bournmouth, Poole and Verwood", 
            "cell_type": "markdown", 
            "metadata": {}
        }, 
        {
            "source": "Reviewing at the results, appears that the most common venues are:\n    1. Pub\n    2. German Restaurants\n    3. Grocery Stores\n    4. Supermarket", 
            "cell_type": "markdown", 
            "metadata": {}
        }, 
        {
            "source": "# CONCLUSIONS", 
            "cell_type": "markdown", 
            "metadata": {}
        }, 
        {
            "source": "The favorites among the local population are:\n    \n    Visiting Pub\n    Dining at a German Restaurant\n    Grocery and Supermarket shopping", 
            "cell_type": "markdown", 
            "metadata": {}
        }, 
        {
            "source": "# Recommendations", 
            "cell_type": "markdown", 
            "metadata": {}
        }, 
        {
            "source": "### Top recommended businesses in the neighborhoods are:\n###    a. Pub\n###    b. German Restaurant\n###    c. Supermarket and/or Grocery Store\n", 
            "cell_type": "markdown", 
            "metadata": {}
        }
    ], 
    "metadata": {
        "kernelspec": {
            "display_name": "Python 3.5", 
            "name": "python3", 
            "language": "python"
        }, 
        "language_info": {
            "mimetype": "text/x-python", 
            "nbconvert_exporter": "python", 
            "version": "3.5.5", 
            "name": "python", 
            "file_extension": ".py", 
            "pygments_lexer": "ipython3", 
            "codemirror_mode": {
                "version": 3, 
                "name": "ipython"
            }
        }
    }, 
    "nbformat": 4
}