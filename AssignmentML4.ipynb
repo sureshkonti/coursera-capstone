{
    "nbformat_minor": 1, 
    "cells": [
        {
            "source": "This is the last assignment for the Coursera course \"Advanced Machine Learning and Signal Processing\"\n\nAgain, please insert to code to your ApacheCouchDB based Cloudant instance below using the \"Insert Code\" function of Watson Studio (you've done this in Assignment 1 before)\n\n\nDone, just execute all cells one after the other and you are done - just note that in the last one you should update your email address (the one you've used for coursera) and obtain a submission token, you get this from the programming assignment directly on coursera.\n\nPlease fill in the sections labelled with \"###YOUR_CODE_GOES_HERE###\"\n\nThe purpose of this assignment is to learn how feature engineering boosts model performance. You will apply Discrete Fourier Transformation on the accelerometer sensor time series and therefore transforming the dataset from the time to the frequency domain. \n\nAfter that, you\u2019ll use a classification algorithm of your choice to create a model and submit the new predictions to the grader. Done.\n", 
            "cell_type": "markdown", 
            "metadata": {}
        }, 
        {
            "execution_count": 1, 
            "cell_type": "code", 
            "metadata": {}, 
            "outputs": [], 
            "source": "# The code was removed by Watson Studio for sharing."
        }, 
        {
            "source": "Let's create a SparkSession object and put the Cloudant credentials into it", 
            "cell_type": "markdown", 
            "metadata": {}
        }, 
        {
            "execution_count": 2, 
            "cell_type": "code", 
            "metadata": {}, 
            "outputs": [], 
            "source": "spark = SparkSession\\\n    .builder\\\n    .appName(\"Cloudant Spark SQL Example in Python using temp tables\")\\\n    .config(\"cloudant.host\",credentials_1['custom_url'].split('@')[1])\\\n    .config(\"cloudant.username\", credentials_1['username'])\\\n    .config(\"cloudant.password\",credentials_1['password'])\\\n    .config(\"jsonstore.rdd.partitions\", 1)\\\n    .getOrCreate()"
        }, 
        {
            "source": "Now it\u2019s time to read the sensor data and create a temporary query table.", 
            "cell_type": "markdown", 
            "metadata": {}
        }, 
        {
            "execution_count": 4, 
            "cell_type": "code", 
            "metadata": {}, 
            "outputs": [], 
            "source": "df=spark.read.load('shake_classification', \"com.cloudant.spark\")\ndf.createOrReplaceTempView(\"df\")"
        }, 
        {
            "execution_count": 5, 
            "cell_type": "code", 
            "metadata": {}, 
            "outputs": [], 
            "source": "#df.select('X').show()\nclass0 = df.filter(df.CLASS == 0)\nclass1 = df.filter(df.CLASS == 1)\n\ndf_X0 = class0.select('X')\ndf_Y0 = class0.select('Y')\ndf_Z0 = class0.select('Z')\n \ndf_X1 = class1.select('X')\ndf_Y1 = class1.select('Y')\ndf_Z1 = class1.select('Z')\n"
        }, 
        {
            "source": "We need to make sure SystemML is installed.\n", 
            "cell_type": "markdown", 
            "metadata": {}
        }, 
        {
            "execution_count": 6, 
            "cell_type": "code", 
            "metadata": {}, 
            "outputs": [
                {
                    "output_type": "stream", 
                    "name": "stdout", 
                    "text": "Requirement already satisfied: systemml in /usr/local/src/analytic-libs/spark-2.0/python-2.7 (0.15.0)\nRequirement already satisfied: pandas in /usr/local/src/bluemix_jupyter_bundle.v105/notebook/lib/python2.7/site-packages (from systemml) (0.17.1)\nRequirement already satisfied: scipy>=0.15.1 in /usr/local/src/bluemix_jupyter_bundle.v105/notebook/lib/python2.7/site-packages (from systemml) (0.17.0)\nRequirement already satisfied: scikit-learn in /usr/local/src/bluemix_jupyter_bundle.v105/notebook/lib/python2.7/site-packages (from systemml) (0.17)\nRequirement already satisfied: Pillow>=2.0.0 in /usr/local/src/bluemix_jupyter_bundle.v105/notebook/lib/python2.7/site-packages (from systemml) (3.0.0)\nRequirement already satisfied: numpy>=1.8.2 in /usr/local/src/bluemix_jupyter_bundle.v105/notebook/lib/python2.7/site-packages (from systemml) (1.13.1)\nRequirement already satisfied: python-dateutil in /usr/local/src/bluemix_jupyter_bundle.v105/notebook/lib/python2.7/site-packages (from pandas->systemml) (2.4.2)\nRequirement already satisfied: pytz>=2011k in /usr/local/src/bluemix_jupyter_bundle.v105/notebook/lib/python2.7/site-packages (from pandas->systemml) (2018.4)\nRequirement already satisfied: six>=1.5 in /usr/local/src/bluemix_jupyter_bundle.v105/notebook/lib/python2.7/site-packages (from python-dateutil->pandas->systemml) (1.10.0)\n\u001b[31mtensorflow 1.2.1 has requirement bleach==1.5.0, but you'll have bleach 2.0.0 which is incompatible.\u001b[0m\n\u001b[31mtensorflow 1.2.1 has requirement html5lib==0.9999999, but you'll have html5lib 0.999999999 which is incompatible.\u001b[0m\n"
                }
            ], 
            "source": "!pip install systemml"
        }, 
        {
            "source": "We\u2019ll use Apache SystemML to implement Discrete Fourier Transformation. This way all computation continues to happen on the Apache Spark cluster for advanced scalability and performance.", 
            "cell_type": "markdown", 
            "metadata": {}
        }, 
        {
            "execution_count": 7, 
            "cell_type": "code", 
            "metadata": {}, 
            "outputs": [], 
            "source": "from systemml import MLContext, dml\nml = MLContext(spark)"
        }, 
        {
            "source": "As you\u2019ve learned from the lecture, implementing Discrete Fourier Transformation in a linear algebra programming language is simple. Apache SystemML DML is such a language and as you can see the implementation is straightforward and doesn\u2019t differ too much from the mathematical definition (Just note that the sum operator has been swapped with a vector dot product using the %*% syntax borrowed from R\n):\n\n<img style=\"float: left;\" src=\"https://wikimedia.org/api/rest_v1/media/math/render/svg/1af0a78dc50bbf118ab6bd4c4dcc3c4ff8502223\">\n\n", 
            "cell_type": "markdown", 
            "metadata": {}
        }, 
        {
            "execution_count": 8, 
            "cell_type": "code", 
            "metadata": {}, 
            "outputs": [], 
            "source": "dml_script = '''\nPI = 3.141592654\nN = nrow(signal)\n\nn = seq(0, N-1, 1)\nk = seq(0, N-1, 1)\n\nM = (n %*% t(k))*(2*PI/N)\n\nXa = cos(M) %*% signal\nXb = sin(M) %*% signal\n\nDFT = cbind(Xa, Xb)\n'''"
        }, 
        {
            "source": "Now it\u2019s time to create a function which takes a single row Apache Spark data frame as argument (the one containing the accelerometer measurement time series for one axis) and returns the Fourier transformation of it. In addition, we are adding an index column for later joining all axis together and renaming the columns to appropriate names. The result of this function is an Apache Spark DataFrame containing the Fourier Transformation of its input in two columns. \n", 
            "cell_type": "markdown", 
            "metadata": {}
        }, 
        {
            "execution_count": 9, 
            "cell_type": "code", 
            "metadata": {}, 
            "outputs": [], 
            "source": "from pyspark.sql.functions import monotonically_increasing_id\n\ndef dft_systemml(signal,name):\n    prog = dml(dml_script).input('signal', signal).output('DFT')\n    \n    return (\n\n    #execute the script inside the SystemML engine running on top of Apache Spark\n    ml.execute(prog) \n     \n         #read result from SystemML execution back as SystemML Matrix\n        .get('DFT') \n     \n         #convert SystemML Matrix to ApacheSpark DataFrame \n        .toDF() \n     \n         #rename default column names\n        .selectExpr('C1 as %sa' % (name), 'C2 as %sb' % (name)) \n     \n         #add unique ID per row for later joining\n        .withColumn(\"id\", monotonically_increasing_id())\n    )\n        \n\n\n"
        }, 
        {
            "source": "Now it\u2019s time to create DataFrames containing for each accelerometer sensor axis and one for each class. This means you\u2019ll get 6 DataFrames. Please implement this using the relational API of DataFrames or SparkSQL.\n", 
            "cell_type": "markdown", 
            "metadata": {}
        }, 
        {
            "execution_count": 10, 
            "cell_type": "code", 
            "metadata": {}, 
            "outputs": [], 
            "source": "#x0 = ###YOUR_CODE_GOES_HERE### => Please create a DataFrame containing only measurements of class 0 from the x axis\n#y0 = ###YOUR_CODE_GOES_HERE### => Please create a DataFrame containing only measurements of class 0 from the y axis\n#z0 = ###YOUR_CODE_GOES_HERE### => Please create a DataFrame containing only measurements of class 0 from the z axis\n#x1 = ###YOUR_CODE_GOES_HERE### => Please create a DataFrame containing only measurements of class 1 from the x axis\n#y1 = ###YOUR_CODE_GOES_HERE### => Please create a DataFrame containing only measurements of class 1 from the y axis\n#z1 = ###YOUR_CODE_GOES_HERE### => Please create a DataFrame containing only measurements of class 1 from the z axis\nx0 = df_X0\ny0 = df_Y0\nz0 = df_Z0\nx1 = df_X1\ny1 = df_Y1\nz1 = df_Z1"
        }, 
        {
            "source": "Since we\u2019ve created this cool DFT function before, we can just call it for each of the 6 DataFrames now. And since the result of this function call is a DataFrame again we can use the pyspark best practice in simply calling methods on it sequentially. So what we are doing is the following:\n\n- Calling DFT for each class and accelerometer sensor axis.\n- Joining them together on the ID column. \n- Re-adding a column containing the class index.\n- Stacking both Dataframes for each classes together\n\n", 
            "cell_type": "markdown", 
            "metadata": {}
        }, 
        {
            "execution_count": 11, 
            "cell_type": "code", 
            "metadata": {}, 
            "outputs": [
                {
                    "output_type": "stream", 
                    "name": "stdout", 
                    "text": "+----------+-------------------+-------------------+-------------------+-------------------+-------------------+-------------------+-----+\n|        id|                 xa|                 xb|                 ya|                 yb|                 za|                 zb|class|\n+----------+-------------------+-------------------+-------------------+-------------------+-------------------+-------------------+-----+\n|        26|-106.36247701594135|    -4.933784791014|-106.36247701594135|    -4.933784791014|-106.36247701594135|    -4.933784791014|    0|\n|        29|  63.68394184735882| -40.94020367743393|  63.68394184735882| -40.94020367743393|  63.68394184735882| -40.94020367743393|    0|\n|       474| -5.033647023500741|  112.6821357570931| -5.033647023500741|  112.6821357570931| -5.033647023500741|  112.6821357570931|    0|\n|       964|  -52.4149808117549| 38.918304760027254|  -52.4149808117549| 38.918304760027254|  -52.4149808117549| 38.918304760027254|    0|\n|8589934658| 13.870925433091973|  57.09231321202491| 13.870925433091973|  57.09231321202491| 13.870925433091973|  57.09231321202491|    0|\n|8589934965|  4.639297097626621|  18.59872062071295|  4.639297097626621|  18.59872062071295|  4.639297097626621|  18.59872062071295|    0|\n|8589935171| -66.07507189673301| 29.010175562475382| -66.07507189673301| 29.010175562475382| -66.07507189673301| 29.010175562475382|    0|\n|8589935183| 30.990451351553197| -32.61750166029767| 30.990451351553197| -32.61750166029767| 30.990451351553197| -32.61750166029767|    0|\n|8589935298| -7.457771333767793|  36.71719997374092| -7.457771333767793|  36.71719997374092| -7.457771333767793|  36.71719997374092|    0|\n|8589935317| 41.174050738692344| 14.820990543281539| 41.174050738692344| 14.820990543281539| 41.174050738692344| 14.820990543281539|    0|\n|8589935768| -81.13691878320822| -62.89061226161914| -81.13691878320822| -62.89061226161914| -81.13691878320822| -62.89061226161914|    0|\n|8589935770|  81.90321174866807|  57.40255743420612|  81.90321174866807|  57.40255743420612|  81.90321174866807|  57.40255743420612|    0|\n|        65| 19.764037406835897|  67.58577806801947| 19.764037406835897|  67.58577806801947| 19.764037406835897|  67.58577806801947|    0|\n|       191| -85.85608968903803|-32.917865284021794| -85.85608968903803|-32.917865284021794| -85.85608968903803|-32.917865284021794|    0|\n|       418|-164.77001284441965| 12.771290028662722|-164.77001284441965| 12.771290028662722|-164.77001284441965| 12.771290028662722|    0|\n|       541|  59.08124677165938|  38.04707226078238|  59.08124677165938|  38.04707226078238|  59.08124677165938|  38.04707226078238|    0|\n|       558|-16.824893223319407|  58.97857956028286|-16.824893223319407|  58.97857956028286|-16.824893223319407|  58.97857956028286|    0|\n|      1010|  40.61819910655852|  72.67570960875705|  40.61819910655852|  72.67570960875705|  40.61819910655852|  72.67570960875705|    0|\n|      1224|  41.80993480462837|-38.092190241622674|  41.80993480462837|-38.092190241622674|  41.80993480462837|-38.092190241622674|    0|\n|      1258| -41.62402799857338|  147.6307322374427| -41.62402799857338|  147.6307322374427| -41.62402799857338|  147.6307322374427|    0|\n+----------+-------------------+-------------------+-------------------+-------------------+-------------------+-------------------+-----+\nonly showing top 20 rows\n\n"
                }
            ], 
            "source": "from pyspark.sql.functions import lit\n\ndf_class_0 = dft_systemml(x0,'x') \\\n    .join(dft_systemml(y0,'y'), on=['id'], how='inner') \\\n    .join(dft_systemml(z0,'z'), on=['id'], how='inner') \\\n    .withColumn('class', lit(0))\n    \ndf_class_1 = dft_systemml(x1,'x') \\\n    .join(dft_systemml(y1,'y'), on=['id'], how='inner') \\\n    .join(dft_systemml(z1,'z'), on=['id'], how='inner') \\\n    .withColumn('class', lit(1))\n\ndf_dft = df_class_0.union(df_class_1)\n\ndf_dft.show()"
        }, 
        {
            "source": "Please create a VectorAssembler which consumes the newly created DFT columns and produces a column \u201cfeatures\u201d\n", 
            "cell_type": "markdown", 
            "metadata": {}
        }, 
        {
            "execution_count": 19, 
            "cell_type": "code", 
            "metadata": {}, 
            "outputs": [], 
            "source": "#vectorAssembler = ###YOUR_CODE_GOES_HERE###\nfrom pyspark.ml.feature import VectorAssembler\nvectorAssembler = VectorAssembler(inputCols=[\"xa\",\"xb\",\"ya\",\"yb\",\"za\",\"zb\"], outputCol=\"features\")"
        }, 
        {
            "source": "Please insatiate a classifier from the SparkML package and assign it to the classifier variable. Make sure to set the \u201cclass\u201d column as target.\n", 
            "cell_type": "markdown", 
            "metadata": {}
        }, 
        {
            "execution_count": 36, 
            "cell_type": "code", 
            "metadata": {}, 
            "outputs": [], 
            "source": "#classifier = ###YOUR_CODE_GOES_HERE###\n\nfrom pyspark.ml.classification import LogisticRegression\nfrom pyspark.ml.feature import StringIndexer\nindexer = StringIndexer(inputCol=\"class\", outputCol=\"label\")\n\nlr = LogisticRegression(maxIter=10, regParam=0.3, elasticNetParam=0.8, labelCol='class')\nclassifier = lr"
        }, 
        {
            "source": "Let\u2019s train and evaluate\u2026\n", 
            "cell_type": "markdown", 
            "metadata": {}
        }, 
        {
            "execution_count": 37, 
            "cell_type": "code", 
            "metadata": {}, 
            "outputs": [], 
            "source": "from pyspark.ml import Pipeline\npipeline = Pipeline(stages=[vectorAssembler, classifier])"
        }, 
        {
            "execution_count": 38, 
            "cell_type": "code", 
            "metadata": {}, 
            "outputs": [], 
            "source": "model = pipeline.fit(df_dft)"
        }, 
        {
            "execution_count": 39, 
            "cell_type": "code", 
            "metadata": {}, 
            "outputs": [], 
            "source": "prediction = model.transform(df_dft)"
        }, 
        {
            "execution_count": 40, 
            "cell_type": "code", 
            "metadata": {}, 
            "outputs": [
                {
                    "output_type": "stream", 
                    "name": "stdout", 
                    "text": "+----------+-------------------+-------------------+-------------------+-------------------+-------------------+-------------------+-----+--------------------+--------------------+--------------------+----------+\n|        id|                 xa|                 xb|                 ya|                 yb|                 za|                 zb|class|            features|       rawPrediction|         probability|prediction|\n+----------+-------------------+-------------------+-------------------+-------------------+-------------------+-------------------+-----+--------------------+--------------------+--------------------+----------+\n|        26|-106.36247701594135|    -4.933784791014|-106.36247701594135|    -4.933784791014|-106.36247701594135|    -4.933784791014|    0|[-106.36247701594...|[2.00477437921908...|[0.88129744651483...|       0.0|\n|        29|  63.68394184735882| -40.94020367743393|  63.68394184735882| -40.94020367743393|  63.68394184735882| -40.94020367743393|    0|[63.6839418473588...|[2.00477437921908...|[0.88129744651483...|       0.0|\n|       474| -5.033647023500741|  112.6821357570931| -5.033647023500741|  112.6821357570931| -5.033647023500741|  112.6821357570931|    0|[-5.0336470235007...|[2.00477437921908...|[0.88129744651483...|       0.0|\n|       964|  -52.4149808117549| 38.918304760027254|  -52.4149808117549| 38.918304760027254|  -52.4149808117549| 38.918304760027254|    0|[-52.414980811754...|[2.00477437921908...|[0.88129744651483...|       0.0|\n|8589934658| 13.870925433091973|  57.09231321202491| 13.870925433091973|  57.09231321202491| 13.870925433091973|  57.09231321202491|    0|[13.8709254330919...|[2.00477437921908...|[0.88129744651483...|       0.0|\n|8589934965|  4.639297097626621|  18.59872062071295|  4.639297097626621|  18.59872062071295|  4.639297097626621|  18.59872062071295|    0|[4.63929709762662...|[2.00477437921908...|[0.88129744651483...|       0.0|\n|8589935171| -66.07507189673301| 29.010175562475382| -66.07507189673301| 29.010175562475382| -66.07507189673301| 29.010175562475382|    0|[-66.075071896733...|[2.00477437921908...|[0.88129744651483...|       0.0|\n|8589935183| 30.990451351553197| -32.61750166029767| 30.990451351553197| -32.61750166029767| 30.990451351553197| -32.61750166029767|    0|[30.9904513515531...|[2.00477437921908...|[0.88129744651483...|       0.0|\n|8589935298| -7.457771333767793|  36.71719997374092| -7.457771333767793|  36.71719997374092| -7.457771333767793|  36.71719997374092|    0|[-7.4577713337677...|[2.00477437921908...|[0.88129744651483...|       0.0|\n|8589935317| 41.174050738692344| 14.820990543281539| 41.174050738692344| 14.820990543281539| 41.174050738692344| 14.820990543281539|    0|[41.1740507386923...|[2.00477437921908...|[0.88129744651483...|       0.0|\n|8589935768| -81.13691878320822| -62.89061226161914| -81.13691878320822| -62.89061226161914| -81.13691878320822| -62.89061226161914|    0|[-81.136918783208...|[2.00477437921908...|[0.88129744651483...|       0.0|\n|8589935770|  81.90321174866807|  57.40255743420612|  81.90321174866807|  57.40255743420612|  81.90321174866807|  57.40255743420612|    0|[81.9032117486680...|[2.00477437921908...|[0.88129744651483...|       0.0|\n|        65| 19.764037406835897|  67.58577806801947| 19.764037406835897|  67.58577806801947| 19.764037406835897|  67.58577806801947|    0|[19.7640374068358...|[2.00477437921908...|[0.88129744651483...|       0.0|\n|       191| -85.85608968903803|-32.917865284021794| -85.85608968903803|-32.917865284021794| -85.85608968903803|-32.917865284021794|    0|[-85.856089689038...|[2.00477437921908...|[0.88129744651483...|       0.0|\n|       418|-164.77001284441965| 12.771290028662722|-164.77001284441965| 12.771290028662722|-164.77001284441965| 12.771290028662722|    0|[-164.77001284441...|[2.00477437921908...|[0.88129744651483...|       0.0|\n|       541|  59.08124677165938|  38.04707226078238|  59.08124677165938|  38.04707226078238|  59.08124677165938|  38.04707226078238|    0|[59.0812467716593...|[2.00477437921908...|[0.88129744651483...|       0.0|\n|       558|-16.824893223319407|  58.97857956028286|-16.824893223319407|  58.97857956028286|-16.824893223319407|  58.97857956028286|    0|[-16.824893223319...|[2.00477437921908...|[0.88129744651483...|       0.0|\n|      1010|  40.61819910655852|  72.67570960875705|  40.61819910655852|  72.67570960875705|  40.61819910655852|  72.67570960875705|    0|[40.6181991065585...|[2.00477437921908...|[0.88129744651483...|       0.0|\n|      1224|  41.80993480462837|-38.092190241622674|  41.80993480462837|-38.092190241622674|  41.80993480462837|-38.092190241622674|    0|[41.8099348046283...|[2.00477437921908...|[0.88129744651483...|       0.0|\n|      1258| -41.62402799857338|  147.6307322374427| -41.62402799857338|  147.6307322374427| -41.62402799857338|  147.6307322374427|    0|[-41.624027998573...|[2.00477437921908...|[0.88129744651483...|       0.0|\n+----------+-------------------+-------------------+-------------------+-------------------+-------------------+-------------------+-----+--------------------+--------------------+--------------------+----------+\nonly showing top 20 rows\n\n"
                }
            ], 
            "source": "prediction.show()"
        }, 
        {
            "execution_count": 41, 
            "cell_type": "code", 
            "metadata": {}, 
            "outputs": [
                {
                    "execution_count": 41, 
                    "metadata": {}, 
                    "data": {
                        "text/plain": "0.8812974465148378"
                    }, 
                    "output_type": "execute_result"
                }
            ], 
            "source": "from pyspark.ml.evaluation import MulticlassClassificationEvaluator\nbinEval = MulticlassClassificationEvaluator().setMetricName(\"accuracy\") .setPredictionCol(\"prediction\").setLabelCol(\"class\")\n    \nbinEval.evaluate(prediction) "
        }, 
        {
            "source": "If you are happy with the result (I\u2019m happy with > 0.8) please submit your solution to the grader by executing the following cells, please don\u2019t forget to obtain an assignment submission token (secret) from the Courera\u2019s graders web page and paste it to the \u201csecret\u201d variable below, including your email address you\u2019ve used for Coursera. \n", 
            "cell_type": "markdown", 
            "metadata": {}
        }, 
        {
            "execution_count": 42, 
            "cell_type": "code", 
            "metadata": {}, 
            "outputs": [], 
            "source": "!rm -Rf a2_m4.json"
        }, 
        {
            "execution_count": 43, 
            "cell_type": "code", 
            "metadata": {}, 
            "outputs": [], 
            "source": "prediction = prediction.repartition(1)\nprediction.write.json('a2_m4.json')"
        }, 
        {
            "execution_count": 44, 
            "cell_type": "code", 
            "metadata": {}, 
            "outputs": [
                {
                    "output_type": "stream", 
                    "name": "stdout", 
                    "text": "--2019-01-14 15:20:01--  https://raw.githubusercontent.com/romeokienzler/developerWorks/master/coursera/ai/rklib.py\nResolving raw.githubusercontent.com (raw.githubusercontent.com)... 151.101.48.133\nConnecting to raw.githubusercontent.com (raw.githubusercontent.com)|151.101.48.133|:443... connected.\nHTTP request sent, awaiting response... 200 OK\nLength: 2289 (2.2K) [text/plain]\nSaving to: \u2018rklib.py\u2019\n\n100%[======================================>] 2,289       --.-K/s   in 0s      \n\n2019-01-14 15:20:02 (15.8 MB/s) - \u2018rklib.py\u2019 saved [2289/2289]\n\n"
                }
            ], 
            "source": "!rm -f rklib.py\n!wget https://raw.githubusercontent.com/romeokienzler/developerWorks/master/coursera/ai/rklib.py"
        }, 
        {
            "execution_count": 45, 
            "cell_type": "code", 
            "metadata": {}, 
            "outputs": [
                {
                    "output_type": "stream", 
                    "name": "stdout", 
                    "text": "  adding: a2_m4.json/ (stored 0%)\n  adding: a2_m4.json/_SUCCESS (stored 0%)\n  adding: a2_m4.json/._SUCCESS.crc (stored 0%)\n  adding: a2_m4.json/.part-00000-c13cc85e-ac83-4d99-8a95-1266b64a704e.json.crc (stored 0%)\n  adding: a2_m4.json/part-00000-c13cc85e-ac83-4d99-8a95-1266b64a704e.json (deflated 90%)\n"
                }
            ], 
            "source": "!zip -r a2_m4.json.zip a2_m4.json"
        }, 
        {
            "execution_count": 46, 
            "cell_type": "code", 
            "metadata": {}, 
            "outputs": [], 
            "source": "!base64 a2_m4.json.zip > a2_m4.json.zip.base64"
        }, 
        {
            "execution_count": 47, 
            "cell_type": "code", 
            "metadata": {}, 
            "outputs": [
                {
                    "output_type": "stream", 
                    "name": "stdout", 
                    "text": "Submission successful, please check on the coursera grader page for the status\n-------------------------\n{\"elements\":[{\"itemId\":\"B8wXV\",\"id\":\"f_F-qCtuEei_fRLwaVDk3g~B8wXV~WwO7IBhCEemMKQqejmD0jg\",\"courseId\":\"f_F-qCtuEei_fRLwaVDk3g\"}],\"paging\":{},\"linked\":{}}\n-------------------------\n"
                }
            ], 
            "source": "from rklib import submit\nkey = \"-fBiYHYDEeiR4QqiFhAvkA\"\npart = \"IjtJk\"\nemail = \"suresh.konti@yahoo.com\"\nsecret = \"J0kYH7mSUjh0woK7\"\n\nwith open('a2_m4.json.zip.base64', 'r') as myfile:\n    data=myfile.read()\nsubmit(email, secret, key, part, [part], data)"
        }, 
        {
            "execution_count": null, 
            "cell_type": "code", 
            "metadata": {}, 
            "outputs": [], 
            "source": ""
        }
    ], 
    "metadata": {
        "kernelspec": {
            "display_name": "Python 2 with Spark 2.1", 
            "name": "python2-spark21", 
            "language": "python"
        }, 
        "language_info": {
            "mimetype": "text/x-python", 
            "nbconvert_exporter": "python", 
            "version": "2.7.14", 
            "name": "python", 
            "file_extension": ".py", 
            "pygments_lexer": "ipython2", 
            "codemirror_mode": {
                "version": 2, 
                "name": "ipython"
            }
        }
    }, 
    "nbformat": 4
}