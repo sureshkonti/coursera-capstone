{
    "nbformat_minor": 1, 
    "cells": [
        {
            "execution_count": 1, 
            "cell_type": "code", 
            "metadata": {}, 
            "outputs": [
                {
                    "output_type": "stream", 
                    "name": "stderr", 
                    "text": "Using TensorFlow backend.\n"
                }
            ], 
            "source": "!pip install -q -U tensorflow>=1.8.0\nimport tensorflow as tf\nfrom keras.datasets import fashion_mnist"
        }, 
        {
            "execution_count": 2, 
            "cell_type": "code", 
            "metadata": {}, 
            "outputs": [], 
            "source": "(x_train, y_train), (x_test,y_test) = fashion_mnist.load_data()"
        }, 
        {
            "execution_count": 3, 
            "cell_type": "code", 
            "metadata": {}, 
            "outputs": [
                {
                    "output_type": "stream", 
                    "name": "stdout", 
                    "text": "x_train shape: (60000, 28, 28) y_train shape: (60000,)\nx_test shape: (10000, 28, 28) y_test shape: (10000,)\n"
                }
            ], 
            "source": "print(\"x_train shape:\", x_train.shape, \"y_train shape:\", y_train.shape); print(\"x_test shape:\", x_test.shape, \"y_test shape:\", y_test.shape)"
        }, 
        {
            "execution_count": 4, 
            "cell_type": "code", 
            "metadata": {}, 
            "outputs": [
                {
                    "output_type": "stream", 
                    "name": "stdout", 
                    "text": "(28, 28)\n"
                }
            ], 
            "source": "print(x_train[0].shape)\n## We can see that the values range from 0 to 246 (actually pixel data range from 0 to 255)"
        }, 
        {
            "execution_count": 5, 
            "cell_type": "code", 
            "metadata": {}, 
            "outputs": [
                {
                    "output_type": "display_data", 
                    "data": {
                        "text/plain": "<matplotlib.figure.Figure at 0x7fc6d9947b70>"
                    }, 
                    "metadata": {}
                }
            ], 
            "source": "import matplotlib.pyplot as plt\nimport numpy as np\nplt.imshow(x_train[0])\nplt.show()"
        }, 
        {
            "execution_count": 6, 
            "cell_type": "code", 
            "metadata": {}, 
            "outputs": [
                {
                    "output_type": "stream", 
                    "name": "stdout", 
                    "text": "(28, 28, 1)\n"
                }
            ], 
            "source": "## Data Normalization\nx_train = x_train.astype('float32')/255\nx_test = x_test.astype('float32')/255\n\n# Reshape input data from (28, 28) to (28, 28, 1)\nw, h = 28, 28\nx_train = x_train.reshape(x_train.shape[0], w, h, 1)\nx_test = x_test.reshape(x_test.shape[0], w, h, 1)\n\n#x_train = x_train.reshape(60000, 784)\n#x_test = x_test.reshape(10000, 784)\n\nprint(x_train[0].shape)"
        }, 
        {
            "execution_count": 7, 
            "cell_type": "code", 
            "metadata": {}, 
            "outputs": [
                {
                    "output_type": "stream", 
                    "name": "stdout", 
                    "text": "9\n"
                }
            ], 
            "source": "## Lets print y and see\nprint(y_train[0])"
        }, 
        {
            "execution_count": 8, 
            "cell_type": "code", 
            "metadata": {}, 
            "outputs": [
                {
                    "output_type": "stream", 
                    "name": "stdout", 
                    "text": "(10,)\n"
                }
            ], 
            "source": "## Lets normalize y_train and y_test also\nfrom keras.utils import to_categorical\ny_train = to_categorical(y_train)\ny_test = to_categorical(y_test)\nprint(y_train[0].shape)"
        }, 
        {
            "execution_count": 9, 
            "cell_type": "code", 
            "metadata": {}, 
            "outputs": [
                {
                    "output_type": "stream", 
                    "name": "stdout", 
                    "text": "[ 0.  0.  0.  0.  0.  0.  0.  0.  0.  1.]\n"
                }
            ], 
            "source": "print(y_train[0])"
        }, 
        {
            "execution_count": 10, 
            "cell_type": "code", 
            "metadata": {}, 
            "outputs": [
                {
                    "output_type": "stream", 
                    "name": "stdout", 
                    "text": "_________________________________________________________________\nLayer (type)                 Output Shape              Param #   \n=================================================================\nconv2d (Conv2D)              (None, 28, 28, 64)        320       \n_________________________________________________________________\nmax_pooling2d (MaxPooling2D) (None, 14, 14, 64)        0         \n_________________________________________________________________\ndropout (Dropout)            (None, 14, 14, 64)        0         \n_________________________________________________________________\nconv2d_1 (Conv2D)            (None, 14, 14, 32)        8224      \n_________________________________________________________________\nmax_pooling2d_1 (MaxPooling2 (None, 7, 7, 32)          0         \n_________________________________________________________________\ndropout_1 (Dropout)          (None, 7, 7, 32)          0         \n_________________________________________________________________\nflatten (Flatten)            (None, 1568)              0         \n_________________________________________________________________\ndense (Dense)                (None, 256)               401664    \n_________________________________________________________________\ndropout_2 (Dropout)          (None, 256)               0         \n_________________________________________________________________\ndense_1 (Dense)              (None, 10)                2570      \n=================================================================\nTotal params: 412,778\nTrainable params: 412,778\nNon-trainable params: 0\n_________________________________________________________________\n"
                }
            ], 
            "source": "# Must define the input shape in the first layer of the neural network\nmodel = tf.keras.Sequential()\n\nmodel.add(tf.keras.layers.Conv2D(filters=64, kernel_size=2, padding='same', activation='relu', input_shape=(28,28,1))) \nmodel.add(tf.keras.layers.MaxPooling2D(pool_size=2))\nmodel.add(tf.keras.layers.Dropout(0.3))\n\nmodel.add(tf.keras.layers.Conv2D(filters=32, kernel_size=2, padding='same', activation='relu'))\nmodel.add(tf.keras.layers.MaxPooling2D(pool_size=2))\nmodel.add(tf.keras.layers.Dropout(0.3))\n\nmodel.add(tf.keras.layers.Flatten())\nmodel.add(tf.keras.layers.Dense(256, activation='relu'))\nmodel.add(tf.keras.layers.Dropout(0.5))\n\nmodel.add(tf.keras.layers.Dense(10, activation='softmax'))\n\n# Take a look at the model summary\nmodel.summary()"
        }, 
        {
            "execution_count": 11, 
            "cell_type": "code", 
            "metadata": {}, 
            "outputs": [], 
            "source": "## Lets compile the model\nmodel.compile(loss='categorical_crossentropy',\n             optimizer='adam',\n             metrics=['accuracy'])"
        }, 
        {
            "execution_count": 12, 
            "cell_type": "code", 
            "metadata": {}, 
            "outputs": [
                {
                    "output_type": "stream", 
                    "name": "stdout", 
                    "text": "Train on 60000 samples, validate on 10000 samples\nEpoch 1/10\n60000/60000 [==============================] - 300s 5ms/step - loss: 0.6012 - acc: 0.7783 - val_loss: 0.4069 - val_acc: 0.8546\nEpoch 2/10\n60000/60000 [==============================] - 308s 5ms/step - loss: 0.4177 - acc: 0.8474 - val_loss: 0.3669 - val_acc: 0.8619\nEpoch 3/10\n60000/60000 [==============================] - 329s 5ms/step - loss: 0.3699 - acc: 0.8638 - val_loss: 0.3159 - val_acc: 0.8829\nEpoch 4/10\n60000/60000 [==============================] - 309s 5ms/step - loss: 0.3439 - acc: 0.8727 - val_loss: 0.2930 - val_acc: 0.8921\nEpoch 5/10\n60000/60000 [==============================] - 289s 5ms/step - loss: 0.3242 - acc: 0.8802 - val_loss: 0.2829 - val_acc: 0.8957\nEpoch 6/10\n60000/60000 [==============================] - 311s 5ms/step - loss: 0.3078 - acc: 0.8875 - val_loss: 0.2704 - val_acc: 0.9003\nEpoch 7/10\n60000/60000 [==============================] - 291s 5ms/step - loss: 0.2958 - acc: 0.8917 - val_loss: 0.2631 - val_acc: 0.9020\nEpoch 8/10\n60000/60000 [==============================] - 303s 5ms/step - loss: 0.2846 - acc: 0.8944 - val_loss: 0.2519 - val_acc: 0.9073\nEpoch 9/10\n60000/60000 [==============================] - 301s 5ms/step - loss: 0.2737 - acc: 0.8999 - val_loss: 0.2501 - val_acc: 0.9095\nEpoch 10/10\n60000/60000 [==============================] - 313s 5ms/step - loss: 0.2671 - acc: 0.9005 - val_loss: 0.2458 - val_acc: 0.9084\n"
                }, 
                {
                    "execution_count": 12, 
                    "metadata": {}, 
                    "data": {
                        "text/plain": "<tensorflow.python.keras.callbacks.History at 0x7fc6cc6dc828>"
                    }, 
                    "output_type": "execute_result"
                }
            ], 
            "source": "## Train the model\nmodel.fit(x_train,\n         y_train,\n         batch_size=64,\n         epochs=10,\n         validation_data=(x_test, y_test))\n         "
        }, 
        {
            "execution_count": 13, 
            "cell_type": "code", 
            "metadata": {}, 
            "outputs": [
                {
                    "output_type": "stream", 
                    "name": "stdout", 
                    "text": "\n Test accuracy: 0.9084\n\n Test loss: 0.245752789116\n"
                }
            ], 
            "source": "## Test Accuracy\n# Evaluate the model on test set\nscore = model.evaluate(x_test, y_test, verbose=0)\n# Print test accuracy\nprint('\\n', 'Test accuracy:', score[1])\nprint('\\n', 'Test loss:', score[0])\n"
        }, 
        {
            "execution_count": null, 
            "cell_type": "code", 
            "metadata": {}, 
            "outputs": [], 
            "source": ""
        }, 
        {
            "execution_count": null, 
            "cell_type": "code", 
            "metadata": {}, 
            "outputs": [], 
            "source": ""
        }
    ], 
    "metadata": {
        "kernelspec": {
            "display_name": "Python 3.5", 
            "name": "python3", 
            "language": "python"
        }, 
        "language_info": {
            "mimetype": "text/x-python", 
            "nbconvert_exporter": "python", 
            "version": "3.5.5", 
            "name": "python", 
            "file_extension": ".py", 
            "pygments_lexer": "ipython3", 
            "codemirror_mode": {
                "version": 3, 
                "name": "ipython"
            }
        }
    }, 
    "nbformat": 4
}