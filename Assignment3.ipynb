{
    "nbformat_minor": 1, 
    "cells": [
        {
            "source": "This is the third assignment for the Coursera course \"Advanced Machine Learning and Signal Processing\"\n\nAgain, please insert to code to your ApacheCouchDB based Cloudant instance below using the \"Insert Code\" function of Watson Studio (you've done this in Assignment 1 and 2 before)\n\nDone, just execute all cells one after the other and you are done - just note that in the last one you must update your email address (the one you've used for coursera) and obtain a submission token, you get this from the programming assignment directly on coursera.\n\nPlease fill in the sections labelled with \"###YOUR_CODE_GOES_HERE###\"\n", 
            "cell_type": "markdown", 
            "metadata": {}
        }, 
        {
            "execution_count": 7, 
            "cell_type": "code", 
            "metadata": {}, 
            "outputs": [], 
            "source": "# The code was removed by Watson Studio for sharing."
        }, 
        {
            "source": "Let's create a SparkSession object and put the Cloudant credentials into it", 
            "cell_type": "markdown", 
            "metadata": {}
        }, 
        {
            "execution_count": 8, 
            "cell_type": "code", 
            "metadata": {}, 
            "outputs": [], 
            "source": "spark = SparkSession\\\n    .builder\\\n    .appName(\"Cloudant Spark SQL Example in Python using temp tables\")\\\n    .config(\"cloudant.host\",credentials_1['custom_url'].split('@')[1])\\\n    .config(\"cloudant.username\", credentials_1['username'])\\\n    .config(\"cloudant.password\",credentials_1['password'])\\\n    .config(\"jsonstore.rdd.partitions\", 1)\\\n    .getOrCreate()"
        }, 
        {
            "source": "Now it\u2019s time to have a look at the recorded sensor data. You should see data similar to the one exemplified below\u2026.\n", 
            "cell_type": "markdown", 
            "metadata": {}
        }, 
        {
            "execution_count": 9, 
            "cell_type": "code", 
            "metadata": {}, 
            "outputs": [
                {
                    "output_type": "stream", 
                    "name": "stdout", 
                    "text": "+-----+-----------+-----+-----+-----+--------------------+--------------------+\n|CLASS|   SENSORID|    X|    Y|    Z|                 _id|                _rev|\n+-----+-----------+-----+-----+-----+--------------------+--------------------+\n|    0|sureshkonti| 0.01| 0.01| 0.01|102f1fe84b1b6477f...|1-f9f148dc923770a...|\n|    0|sureshkonti| 0.01| 0.01| 0.01|102f1fe84b1b6477f...|1-f9f148dc923770a...|\n|    0|sureshkonti|  0.0|  0.0|  0.0|102f1fe84b1b6477f...|1-2a25fd372080ae8...|\n|    0|sureshkonti| 0.57| 0.57| 0.57|102f1fe84b1b6477f...|1-69af8055dbcb199...|\n|    0|sureshkonti|-5.96|-5.96|-5.96|102f1fe84b1b6477f...|1-64565388a51cab7...|\n|    0|sureshkonti|-2.68|-2.68|-2.68|102f1fe84b1b6477f...|1-7fb70d4e5d96e25...|\n|    0|sureshkonti| 3.24| 3.24| 3.24|102f1fe84b1b6477f...|1-28f4f7f54b17567...|\n|    0|sureshkonti|-2.21|-2.21|-2.21|102f1fe84b1b6477f...|1-4d791edb0cf57dc...|\n|    0|sureshkonti|-4.28|-4.28|-4.28|102f1fe84b1b6477f...|1-d5ea8240fe4451c...|\n|    0|sureshkonti|-3.97|-3.97|-3.97|102f1fe84b1b6477f...|1-9fa5a9d1ec6d80d...|\n|    0|sureshkonti|-1.93|-1.93|-1.93|102f1fe84b1b6477f...|1-b54d0dc18bca646...|\n|    0|sureshkonti| 3.42| 3.42| 3.42|102f1fe84b1b6477f...|1-0d972d31e17b2b1...|\n|    0|sureshkonti| 2.57| 2.57| 2.57|102f1fe84b1b6477f...|1-47cbcbfb782a7e1...|\n|    0|sureshkonti| 1.65| 1.65| 1.65|102f1fe84b1b6477f...|1-2634fd9640c2ca0...|\n|    0|sureshkonti| -5.2| -5.2| -5.2|102f1fe84b1b6477f...|1-0afd70820b3c819...|\n|    0|sureshkonti| 0.14| 0.14| 0.14|102f1fe84b1b6477f...|1-3e2e3aafac8413d...|\n|    0|sureshkonti|  5.4|  5.4|  5.4|102f1fe84b1b6477f...|1-8c904fde3a8ee9d...|\n|    0|sureshkonti|  1.9|  1.9|  1.9|102f1fe84b1b6477f...|1-21466fd46c5fb8a...|\n|    0|sureshkonti| 0.28| 0.28| 0.28|102f1fe84b1b6477f...|1-a2223d9b88a42b0...|\n|    0|sureshkonti|-0.31|-0.31|-0.31|102f1fe84b1b6477f...|1-cee21281ad30e2b...|\n+-----+-----------+-----+-----+-----+--------------------+--------------------+\nonly showing top 20 rows\n\n"
                }
            ], 
            "source": "df=spark.read.load('shake_classification', \"com.cloudant.spark\")\n\ndf.createOrReplaceTempView(\"df\")\nspark.sql(\"SELECT * from df\").show()\n"
        }, 
        {
            "source": "Let\u2019s check if we have balanced classes \u2013 this means that we have roughly the same number of examples for each class we want to predict. This is important for classification but also helpful for clustering", 
            "cell_type": "markdown", 
            "metadata": {}
        }, 
        {
            "execution_count": 10, 
            "cell_type": "code", 
            "metadata": {}, 
            "outputs": [
                {
                    "output_type": "stream", 
                    "name": "stdout", 
                    "text": "+------------+-----+\n|count(class)|class|\n+------------+-----+\n|        2554|    0|\n|         344|    1|\n+------------+-----+\n\n"
                }
            ], 
            "source": "spark.sql(\"SELECT count(class), class from df group by class\").show()"
        }, 
        {
            "source": "Let's create a VectorAssembler which consumes columns X, Y and Z and produces a column \u201cfeatures\u201d\n", 
            "cell_type": "markdown", 
            "metadata": {}
        }, 
        {
            "execution_count": 11, 
            "cell_type": "code", 
            "metadata": {}, 
            "outputs": [], 
            "source": "from pyspark.ml.feature import VectorAssembler\nvectorAssembler = VectorAssembler(inputCols=[\"X\",\"Y\",\"Z\"],\n                                  outputCol=\"features\")"
        }, 
        {
            "source": "Please insatiate a clustering algorithm from the SparkML package and assign it to the clust variable. Here we don\u2019t need to take care of the \u201cCLASS\u201d column since we are in unsupervised learning mode \u2013 so let\u2019s pretend to not even have the \u201cCLASS\u201d column for now \u2013 but it will become very handy later in assessing the clustering performance. PLEASE NOTE \u2013 IN REAL-WORLD SCENARIOS THERE IS NO CLASS COLUMN \u2013 THEREFORE YOU CAN\u2019T ASSESS CLASSIFICATION PERFORMANCE USING THIS COLUMN \n\n", 
            "cell_type": "markdown", 
            "metadata": {}
        }, 
        {
            "execution_count": 13, 
            "cell_type": "code", 
            "metadata": {}, 
            "outputs": [], 
            "source": "from pyspark.ml.clustering import KMeans\n\nkmeans = KMeans().setK(2).setSeed(1)\n\nclust = kmeans"
        }, 
        {
            "source": "Let\u2019s train...\n", 
            "cell_type": "markdown", 
            "metadata": {}
        }, 
        {
            "execution_count": 14, 
            "cell_type": "code", 
            "metadata": {}, 
            "outputs": [], 
            "source": "from pyspark.ml import Pipeline\npipeline = Pipeline(stages=[vectorAssembler, clust])\nmodel = pipeline.fit(df)"
        }, 
        {
            "source": "...and evaluate...", 
            "cell_type": "markdown", 
            "metadata": {}
        }, 
        {
            "execution_count": 15, 
            "cell_type": "code", 
            "metadata": {}, 
            "outputs": [
                {
                    "output_type": "stream", 
                    "name": "stdout", 
                    "text": "+-----+-----------+-----+-----+-----+--------------------+--------------------+-------------------+----------+\n|CLASS|   SENSORID|    X|    Y|    Z|                 _id|                _rev|           features|prediction|\n+-----+-----------+-----+-----+-----+--------------------+--------------------+-------------------+----------+\n|    0|sureshkonti| 0.01| 0.01| 0.01|102f1fe84b1b6477f...|1-f9f148dc923770a...|   [0.01,0.01,0.01]|         1|\n|    0|sureshkonti| 0.01| 0.01| 0.01|102f1fe84b1b6477f...|1-f9f148dc923770a...|   [0.01,0.01,0.01]|         1|\n|    0|sureshkonti|  0.0|  0.0|  0.0|102f1fe84b1b6477f...|1-2a25fd372080ae8...|          (3,[],[])|         1|\n|    0|sureshkonti| 0.57| 0.57| 0.57|102f1fe84b1b6477f...|1-69af8055dbcb199...|   [0.57,0.57,0.57]|         1|\n|    0|sureshkonti|-5.96|-5.96|-5.96|102f1fe84b1b6477f...|1-64565388a51cab7...|[-5.96,-5.96,-5.96]|         1|\n|    0|sureshkonti|-2.68|-2.68|-2.68|102f1fe84b1b6477f...|1-7fb70d4e5d96e25...|[-2.68,-2.68,-2.68]|         1|\n|    0|sureshkonti| 3.24| 3.24| 3.24|102f1fe84b1b6477f...|1-28f4f7f54b17567...|   [3.24,3.24,3.24]|         0|\n|    0|sureshkonti|-2.21|-2.21|-2.21|102f1fe84b1b6477f...|1-4d791edb0cf57dc...|[-2.21,-2.21,-2.21]|         1|\n|    0|sureshkonti|-4.28|-4.28|-4.28|102f1fe84b1b6477f...|1-d5ea8240fe4451c...|[-4.28,-4.28,-4.28]|         1|\n|    0|sureshkonti|-3.97|-3.97|-3.97|102f1fe84b1b6477f...|1-9fa5a9d1ec6d80d...|[-3.97,-3.97,-3.97]|         1|\n|    0|sureshkonti|-1.93|-1.93|-1.93|102f1fe84b1b6477f...|1-b54d0dc18bca646...|[-1.93,-1.93,-1.93]|         1|\n|    0|sureshkonti| 3.42| 3.42| 3.42|102f1fe84b1b6477f...|1-0d972d31e17b2b1...|   [3.42,3.42,3.42]|         0|\n|    0|sureshkonti| 2.57| 2.57| 2.57|102f1fe84b1b6477f...|1-47cbcbfb782a7e1...|   [2.57,2.57,2.57]|         0|\n|    0|sureshkonti| 1.65| 1.65| 1.65|102f1fe84b1b6477f...|1-2634fd9640c2ca0...|   [1.65,1.65,1.65]|         0|\n|    0|sureshkonti| -5.2| -5.2| -5.2|102f1fe84b1b6477f...|1-0afd70820b3c819...|   [-5.2,-5.2,-5.2]|         1|\n|    0|sureshkonti| 0.14| 0.14| 0.14|102f1fe84b1b6477f...|1-3e2e3aafac8413d...|   [0.14,0.14,0.14]|         1|\n|    0|sureshkonti|  5.4|  5.4|  5.4|102f1fe84b1b6477f...|1-8c904fde3a8ee9d...|      [5.4,5.4,5.4]|         0|\n|    0|sureshkonti|  1.9|  1.9|  1.9|102f1fe84b1b6477f...|1-21466fd46c5fb8a...|      [1.9,1.9,1.9]|         0|\n|    0|sureshkonti| 0.28| 0.28| 0.28|102f1fe84b1b6477f...|1-a2223d9b88a42b0...|   [0.28,0.28,0.28]|         1|\n|    0|sureshkonti|-0.31|-0.31|-0.31|102f1fe84b1b6477f...|1-cee21281ad30e2b...|[-0.31,-0.31,-0.31]|         1|\n+-----+-----------+-----+-----+-----+--------------------+--------------------+-------------------+----------+\nonly showing top 20 rows\n\n"
                }
            ], 
            "source": "prediction = model.transform(df)\nprediction.show()"
        }, 
        {
            "execution_count": 16, 
            "cell_type": "code", 
            "metadata": {}, 
            "outputs": [
                {
                    "execution_count": 16, 
                    "metadata": {}, 
                    "data": {
                        "text/plain": "0.7415458937198067"
                    }, 
                    "output_type": "execute_result"
                }
            ], 
            "source": "prediction.createOrReplaceTempView('prediction')\nspark.sql('''\nselect max(correct)/max(total) as accuracy from (\n\n    select sum(correct) as correct, count(correct) as total from (\n        select case when class != prediction then 1 else 0 end as correct from prediction \n    ) \n    \n    union\n    \n    select sum(correct) as correct, count(correct) as total from (\n        select case when class = prediction then 1 else 0 end as correct from prediction \n    ) \n)\n''').rdd.map(lambda row: row.accuracy).collect()[0]"
        }, 
        {
            "source": "If you reached at least 55% of accuracy you are fine to submit your predictions to the grader. Otherwise please experiment with parameters setting to your clustering algorithm, use a different algorithm or just re-record your data and try to obtain. In case you are stuck, please use the Coursera Discussion Forum. Please note again \u2013 in a real-world scenario there is no way in doing this \u2013 since there is no class label in your data. Please have a look at this further reading on clustering performance evaluation https://en.wikipedia.org/wiki/Cluster_analysis#Evaluation_and_assessment\n", 
            "cell_type": "markdown", 
            "metadata": {}
        }, 
        {
            "execution_count": 17, 
            "cell_type": "code", 
            "metadata": {}, 
            "outputs": [], 
            "source": "!rm -Rf a2_m3.json"
        }, 
        {
            "execution_count": 18, 
            "cell_type": "code", 
            "metadata": {}, 
            "outputs": [
                {
                    "output_type": "stream", 
                    "name": "stdout", 
                    "text": "--2019-01-13 22:39:46--  https://raw.githubusercontent.com/romeokienzler/developerWorks/master/coursera/ai/rklib.py\nResolving raw.githubusercontent.com (raw.githubusercontent.com)... 151.101.48.133\nConnecting to raw.githubusercontent.com (raw.githubusercontent.com)|151.101.48.133|:443... connected.\nHTTP request sent, awaiting response... 200 OK\nLength: 2289 (2.2K) [text/plain]\nSaving to: \u2018rklib.py\u2019\n\n100%[======================================>] 2,289       --.-K/s   in 0s      \n\n2019-01-13 22:39:46 (22.5 MB/s) - \u2018rklib.py\u2019 saved [2289/2289]\n\n"
                }
            ], 
            "source": "!rm -f rklib.py\n!wget https://raw.githubusercontent.com/romeokienzler/developerWorks/master/coursera/ai/rklib.py"
        }, 
        {
            "execution_count": 19, 
            "cell_type": "code", 
            "metadata": {}, 
            "outputs": [], 
            "source": "prediction= prediction.repartition(1)\nprediction.write.json('a2_m3.json')"
        }, 
        {
            "execution_count": 20, 
            "cell_type": "code", 
            "metadata": {}, 
            "outputs": [
                {
                    "output_type": "stream", 
                    "name": "stdout", 
                    "text": "  adding: a2_m3.json/ (stored 0%)\r\n  adding: a2_m3.json/_SUCCESS (stored 0%)\r\n  adding: a2_m3.json/part-00000-a0a0531c-be93-4643-8278-927e1355b6c5.json (deflated 88%)\r\n  adding: a2_m3.json/._SUCCESS.crc (stored 0%)\r\n  adding: a2_m3.json/.part-00000-a0a0531c-be93-4643-8278-927e1355b6c5.json.crc (stored 0%)\r\n"
                }
            ], 
            "source": "!zip -r a2_m3.json.zip a2_m3.json"
        }, 
        {
            "execution_count": 23, 
            "cell_type": "code", 
            "metadata": {}, 
            "outputs": [], 
            "source": "!base64 a2_m3.json.zip > a2_m3.json.zip.base64"
        }, 
        {
            "execution_count": 24, 
            "cell_type": "code", 
            "metadata": {}, 
            "outputs": [
                {
                    "output_type": "stream", 
                    "name": "stdout", 
                    "text": "Submission successful, please check on the coursera grader page for the status\n-------------------------\n{\"elements\":[{\"itemId\":\"Cu6KW\",\"id\":\"f_F-qCtuEei_fRLwaVDk3g~Cu6KW~mJEL2xe2EemAmgr9ghi_yA\",\"courseId\":\"f_F-qCtuEei_fRLwaVDk3g\"}],\"paging\":{},\"linked\":{}}\n-------------------------\n"
                }
            ], 
            "source": "from rklib import submit\nkey = \"pPfm62VXEeiJOBL0dhxPkA\"\npart = \"EOTMs\"\nemail = \"suresh.konti@yahoo.com\"\nsecret = \"YDlVRqDTHmZRRPq5\"\n\nwith open('a2_m3.json.zip.base64', 'r') as myfile:\n    data=myfile.read()\nsubmit(email, secret, key, part, [part], data)"
        }, 
        {
            "execution_count": null, 
            "cell_type": "code", 
            "metadata": {}, 
            "outputs": [], 
            "source": ""
        }
    ], 
    "metadata": {
        "kernelspec": {
            "display_name": "Python 3.5 with Spark 2.1", 
            "name": "python3-spark21", 
            "language": "python"
        }, 
        "language_info": {
            "mimetype": "text/x-python", 
            "nbconvert_exporter": "python", 
            "version": "3.5.4", 
            "name": "python", 
            "file_extension": ".py", 
            "pygments_lexer": "ipython3", 
            "codemirror_mode": {
                "version": 3, 
                "name": "ipython"
            }
        }
    }, 
    "nbformat": 4
}