{
    "nbformat_minor": 1, 
    "cells": [
        {
            "execution_count": 5, 
            "cell_type": "code", 
            "metadata": {}, 
            "outputs": [
                {
                    "output_type": "stream", 
                    "name": "stdout", 
                    "text": "Requirement already satisfied: tensorflow in /usr/local/src/conda3_runtime.v49/home/envs/DSX-Python35-Spark/lib/python3.5/site-packages (1.3.0)\nRequirement already satisfied: numpy>=1.11.0 in /usr/local/src/conda3_runtime.v49/home/envs/DSX-Python35-Spark/lib/python3.5/site-packages (from tensorflow) (1.13.3)\nRequirement already satisfied: six>=1.10.0 in /usr/local/src/conda3_runtime.v49/home/envs/DSX-Python35-Spark/lib/python3.5/site-packages (from tensorflow) (1.11.0)\nRequirement already satisfied: tensorflow-tensorboard<0.2.0,>=0.1.0 in /gpfs/global_fs01/sym_shared/YPProdSpark/user/se82-a1d1e9a7f000a7-8dd7febfde58/.local/lib/python3.5/site-packages (from tensorflow) (0.1.8)\nRequirement already satisfied: wheel>=0.26 in /usr/local/src/conda3_runtime.v49/home/envs/DSX-Python35-Spark/lib/python3.5/site-packages (from tensorflow) (0.31.1)\nRequirement already satisfied: protobuf>=3.3.0 in /usr/local/src/conda3_runtime.v49/home/envs/DSX-Python35-Spark/lib/python3.5/site-packages (from tensorflow) (3.4.1)\nRequirement already satisfied: werkzeug>=0.11.10 in /usr/local/src/conda3_runtime.v49/home/envs/DSX-Python35-Spark/lib/python3.5/site-packages (from tensorflow-tensorboard<0.2.0,>=0.1.0->tensorflow) (0.12.2)\nRequirement already satisfied: html5lib==0.9999999 in /gpfs/global_fs01/sym_shared/YPProdSpark/user/se82-a1d1e9a7f000a7-8dd7febfde58/.local/lib/python3.5/site-packages (from tensorflow-tensorboard<0.2.0,>=0.1.0->tensorflow) (0.9999999)\nRequirement already satisfied: markdown>=2.6.8 in /usr/local/src/conda3_runtime.v49/home/envs/DSX-Python35-Spark/lib/python3.5/site-packages (from tensorflow-tensorboard<0.2.0,>=0.1.0->tensorflow) (2.6.9)\nRequirement already satisfied: bleach==1.5.0 in /gpfs/global_fs01/sym_shared/YPProdSpark/user/se82-a1d1e9a7f000a7-8dd7febfde58/.local/lib/python3.5/site-packages (from tensorflow-tensorboard<0.2.0,>=0.1.0->tensorflow) (1.5.0)\nRequirement already satisfied: setuptools in /usr/local/src/conda3_runtime.v49/home/envs/DSX-Python35-Spark/lib/python3.5/site-packages (from protobuf>=3.3.0->tensorflow) (40.2.0)\n\u001b[31mnotebook 5.0.0 requires nbconvert, which is not installed.\u001b[0m\n\u001b[31mipywidgets 6.0.0 requires widgetsnbextension~=2.0.0, which is not installed.\u001b[0m\nRequirement already satisfied: keras in /usr/local/src/conda3_runtime.v49/home/envs/DSX-Python35-Spark/lib/python3.5/site-packages (2.0.5)\nRequirement already satisfied: pyyaml in /usr/local/src/conda3_runtime.v49/home/envs/DSX-Python35-Spark/lib/python3.5/site-packages (from keras) (3.12)\nRequirement already satisfied: theano in /usr/local/src/conda3_runtime.v49/home/envs/DSX-Python35-Spark/lib/python3.5/site-packages (from keras) (0.9.0)\nRequirement already satisfied: six in /usr/local/src/conda3_runtime.v49/home/envs/DSX-Python35-Spark/lib/python3.5/site-packages (from keras) (1.11.0)\nRequirement already satisfied: numpy>=1.9.1 in /usr/local/src/conda3_runtime.v49/home/envs/DSX-Python35-Spark/lib/python3.5/site-packages (from theano->keras) (1.13.3)\nRequirement already satisfied: scipy>=0.14 in /usr/local/src/conda3_runtime.v49/home/envs/DSX-Python35-Spark/lib/python3.5/site-packages (from theano->keras) (1.0.0)\n\u001b[31mnotebook 5.0.0 requires nbconvert, which is not installed.\u001b[0m\n\u001b[31mipywidgets 6.0.0 requires widgetsnbextension~=2.0.0, which is not installed.\u001b[0m\n"
                }
            ], 
            "source": "import numpy as np\nimport matplotlib.pyplot as plt\n\n!pip install tensorflow\n!pip install keras\n"
        }, 
        {
            "execution_count": 9, 
            "cell_type": "code", 
            "metadata": {}, 
            "outputs": [], 
            "source": "import tensorflow as tf\nfrom keras.models import Sequential\nfrom keras.layers import Dense, Dropout\nfrom keras.optimizers import SGD"
        }, 
        {
            "execution_count": 13, 
            "cell_type": "code", 
            "metadata": {}, 
            "outputs": [
                {
                    "output_type": "stream", 
                    "name": "stdout", 
                    "text": "Downloading data from https://s3.amazonaws.com/img-datasets/mnist.npz\n11354112/11490434 [============================>.] - ETA: 0sx_train shape: (60000, 28, 28) y_train shape: (60000,)\n"
                }
            ], 
            "source": "from keras.datasets import mnist\nfrom keras.utils import to_categorical\n\n# Load the fashion-mnist pre-shuffled train data and test data\n#(x_train, y_train), (x_test, y_test) = tf.keras.datasets.fashion_mnist.load_data()\n(x_train, y_train), (x_test, y_test) = mnist.load_data()\nprint(\"x_train shape:\", x_train.shape, \"y_train shape:\", y_train.shape)"
        }, 
        {
            "execution_count": 14, 
            "cell_type": "code", 
            "metadata": {}, 
            "outputs": [], 
            "source": "batch_size=128\nnum_classes=10\nepochs=20"
        }, 
        {
            "execution_count": 15, 
            "cell_type": "code", 
            "metadata": {}, 
            "outputs": [], 
            "source": "## Data Preprocessing \nx_train = x_train.reshape(60000, 784)\nx_test = x_test.reshape(10000, 784)\nx_train = x_train.astype('float32')\nx_test = x_test.astype('float32')\nx_train /= 255\nx_test /= 255\n\ny_train = to_categorical(y_train, num_classes)\ny_test = to_categorical(y_test, num_classes)"
        }, 
        {
            "execution_count": 16, 
            "cell_type": "code", 
            "metadata": {}, 
            "outputs": [
                {
                    "output_type": "stream", 
                    "name": "stdout", 
                    "text": "_________________________________________________________________\nLayer (type)                 Output Shape              Param #   \n=================================================================\ndense_1 (Dense)              (None, 512)               401920    \n_________________________________________________________________\ndropout_1 (Dropout)          (None, 512)               0         \n_________________________________________________________________\ndense_2 (Dense)              (None, 512)               262656    \n_________________________________________________________________\ndropout_2 (Dropout)          (None, 512)               0         \n_________________________________________________________________\ndense_3 (Dense)              (None, 10)                5130      \n=================================================================\nTotal params: 669,706\nTrainable params: 669,706\nNon-trainable params: 0\n_________________________________________________________________\n"
                }
            ], 
            "source": "## Define and Compile the model\nmodel = Sequential()\nmodel.add(Dense(512, activation='relu', input_shape=(784,)))\nmodel.add(Dropout(0.2))\nmodel.add(Dense(512, activation='relu'))\nmodel.add(Dropout(0.2))\nmodel.add(Dense(num_classes, activation='softmax'))\n\nmodel.summary()"
        }, 
        {
            "execution_count": 17, 
            "cell_type": "code", 
            "metadata": {}, 
            "outputs": [], 
            "source": "## Compile the model\nmodel.compile(loss='categorical_crossentropy',\n             optimizer='sgd',\n             metrics=['accuracy'])"
        }, 
        {
            "execution_count": 18, 
            "cell_type": "code", 
            "metadata": {}, 
            "outputs": [
                {
                    "output_type": "stream", 
                    "name": "stdout", 
                    "text": "Train on 60000 samples, validate on 10000 samples\nEpoch 1/20\n60000/60000 [==============================] - 6s - loss: 1.2205 - acc: 0.6846 - val_loss: 0.5301 - val_acc: 0.8746\nEpoch 2/20\n60000/60000 [==============================] - 6s - loss: 0.5239 - acc: 0.8532 - val_loss: 0.3711 - val_acc: 0.8984\nEpoch 3/20\n60000/60000 [==============================] - 6s - loss: 0.4182 - acc: 0.8784 - val_loss: 0.3187 - val_acc: 0.9112\nEpoch 4/20\n60000/60000 [==============================] - 6s - loss: 0.3705 - acc: 0.8921 - val_loss: 0.2914 - val_acc: 0.9181\nEpoch 5/20\n60000/60000 [==============================] - 6s - loss: 0.3409 - acc: 0.9008 - val_loss: 0.2687 - val_acc: 0.9239\nEpoch 6/20\n60000/60000 [==============================] - 6s - loss: 0.3157 - acc: 0.9087 - val_loss: 0.2520 - val_acc: 0.9287\nEpoch 7/20\n60000/60000 [==============================] - 6s - loss: 0.2955 - acc: 0.9136 - val_loss: 0.2404 - val_acc: 0.9314\nEpoch 8/20\n60000/60000 [==============================] - 6s - loss: 0.2776 - acc: 0.9193 - val_loss: 0.2252 - val_acc: 0.9364\nEpoch 9/20\n60000/60000 [==============================] - 6s - loss: 0.2626 - acc: 0.9236 - val_loss: 0.2143 - val_acc: 0.9389\nEpoch 10/20\n60000/60000 [==============================] - 6s - loss: 0.2514 - acc: 0.9268 - val_loss: 0.2055 - val_acc: 0.9415\nEpoch 11/20\n60000/60000 [==============================] - 6s - loss: 0.2406 - acc: 0.9303 - val_loss: 0.1970 - val_acc: 0.9439\nEpoch 12/20\n60000/60000 [==============================] - 6s - loss: 0.2297 - acc: 0.9327 - val_loss: 0.1884 - val_acc: 0.9464\nEpoch 13/20\n60000/60000 [==============================] - 6s - loss: 0.2203 - acc: 0.9365 - val_loss: 0.1809 - val_acc: 0.9483\nEpoch 14/20\n60000/60000 [==============================] - 6s - loss: 0.2122 - acc: 0.9386 - val_loss: 0.1758 - val_acc: 0.9491\nEpoch 15/20\n60000/60000 [==============================] - 6s - loss: 0.2051 - acc: 0.9411 - val_loss: 0.1687 - val_acc: 0.9512\nEpoch 16/20\n60000/60000 [==============================] - 6s - loss: 0.1987 - acc: 0.9422 - val_loss: 0.1628 - val_acc: 0.9524\nEpoch 17/20\n60000/60000 [==============================] - 6s - loss: 0.1914 - acc: 0.9438 - val_loss: 0.1580 - val_acc: 0.9531\nEpoch 18/20\n60000/60000 [==============================] - 6s - loss: 0.1841 - acc: 0.9465 - val_loss: 0.1536 - val_acc: 0.9537\nEpoch 19/20\n60000/60000 [==============================] - 6s - loss: 0.1795 - acc: 0.9482 - val_loss: 0.1491 - val_acc: 0.9545\nEpoch 20/20\n60000/60000 [==============================] - 6s - loss: 0.1732 - acc: 0.9504 - val_loss: 0.1444 - val_acc: 0.9560\n"
                }, 
                {
                    "execution_count": 18, 
                    "metadata": {}, 
                    "data": {
                        "text/plain": "<keras.callbacks.History at 0x7f66486b5160>"
                    }, 
                    "output_type": "execute_result"
                }
            ], 
            "source": "## Fit the model\nmodel.fit(x_train, y_train, batch_size=batch_size, epochs=epochs, validation_data=(x_test, y_test))print"
        }, 
        {
            "execution_count": 19, 
            "cell_type": "code", 
            "metadata": {}, 
            "outputs": [
                {
                    "output_type": "stream", 
                    "name": "stdout", 
                    "text": "Test loss 0.144352211833\nTest accuracy 0.956\n"
                }
            ], 
            "source": "score = model.evaluate(x_test, y_test, verbose=0)\nprint('Test loss', score[0])\nprint('Test accuracy', score[1])"
        }, 
        {
            "execution_count": null, 
            "cell_type": "code", 
            "metadata": {}, 
            "outputs": [], 
            "source": ""
        }
    ], 
    "metadata": {
        "kernelspec": {
            "display_name": "Python 3.5 with Spark 2.1", 
            "name": "python3-spark21", 
            "language": "python"
        }, 
        "language_info": {
            "mimetype": "text/x-python", 
            "nbconvert_exporter": "python", 
            "version": "3.5.4", 
            "name": "python", 
            "file_extension": ".py", 
            "pygments_lexer": "ipython3", 
            "codemirror_mode": {
                "version": 3, 
                "name": "ipython"
            }
        }
    }, 
    "nbformat": 4
}