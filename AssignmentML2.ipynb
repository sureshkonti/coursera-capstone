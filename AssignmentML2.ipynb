{
    "nbformat_minor": 1, 
    "cells": [
        {
            "source": "This is the second assignment for the Coursera course \"Advanced Machine Learning and Signal Processing\"\n\nAgain, please insert to code to your ApacheCouchDB based Cloudant instance below using the \"Insert Code\" function of Watson Studio( you've done this in Assignment 1 before)\n\nDone, just execute all cells one after the other and you are done - just note that in the last one you have to update your email address (the one you've used for coursera) and obtain a submission token, you get this from the programming assignment directly on coursera.\n\nPlease fill in the sections labelled with \"###YOUR_CODE_GOES_HERE###\"", 
            "cell_type": "markdown", 
            "metadata": {}
        }, 
        {
            "execution_count": 1, 
            "cell_type": "code", 
            "metadata": {}, 
            "outputs": [], 
            "source": "# The code was removed by Watson Studio for sharing."
        }, 
        {
            "source": "Let's create a SparkSession object and put the Cloudant credentials into it", 
            "cell_type": "markdown", 
            "metadata": {}
        }, 
        {
            "execution_count": 2, 
            "cell_type": "code", 
            "metadata": {}, 
            "outputs": [], 
            "source": "spark = SparkSession\\\n    .builder\\\n    .appName(\"Cloudant Spark SQL Example in Python using temp tables\")\\\n    .config(\"cloudant.host\",credentials_1['custom_url'].split('@')[1])\\\n    .config(\"cloudant.username\", credentials_1['username'])\\\n    .config(\"cloudant.password\",credentials_1['password'])\\\n    .config(\"jsonstore.rdd.partitions\", 1)\\\n    .getOrCreate()"
        }, 
        {
            "source": "Now it\u2019s time to have a look at the recorded sensor data. You should see data similar to the one exemplified below\u2026.\n", 
            "cell_type": "markdown", 
            "metadata": {}
        }, 
        {
            "execution_count": 3, 
            "cell_type": "code", 
            "metadata": {}, 
            "outputs": [
                {
                    "output_type": "stream", 
                    "name": "stdout", 
                    "text": "+-----+-----------+-----+-----+-----+--------------------+--------------------+\n|CLASS|   SENSORID|    X|    Y|    Z|                 _id|                _rev|\n+-----+-----------+-----+-----+-----+--------------------+--------------------+\n|    0|sureshkonti| 0.01| 0.01| 0.01|102f1fe84b1b6477f...|1-f9f148dc923770a...|\n|    0|sureshkonti| 0.01| 0.01| 0.01|102f1fe84b1b6477f...|1-f9f148dc923770a...|\n|    0|sureshkonti|  0.0|  0.0|  0.0|102f1fe84b1b6477f...|1-2a25fd372080ae8...|\n|    0|sureshkonti| 0.57| 0.57| 0.57|102f1fe84b1b6477f...|1-69af8055dbcb199...|\n|    0|sureshkonti|-5.96|-5.96|-5.96|102f1fe84b1b6477f...|1-64565388a51cab7...|\n|    0|sureshkonti|-2.68|-2.68|-2.68|102f1fe84b1b6477f...|1-7fb70d4e5d96e25...|\n|    0|sureshkonti| 3.24| 3.24| 3.24|102f1fe84b1b6477f...|1-28f4f7f54b17567...|\n|    0|sureshkonti|-2.21|-2.21|-2.21|102f1fe84b1b6477f...|1-4d791edb0cf57dc...|\n|    0|sureshkonti|-4.28|-4.28|-4.28|102f1fe84b1b6477f...|1-d5ea8240fe4451c...|\n|    0|sureshkonti|-3.97|-3.97|-3.97|102f1fe84b1b6477f...|1-9fa5a9d1ec6d80d...|\n|    0|sureshkonti|-1.93|-1.93|-1.93|102f1fe84b1b6477f...|1-b54d0dc18bca646...|\n|    0|sureshkonti| 3.42| 3.42| 3.42|102f1fe84b1b6477f...|1-0d972d31e17b2b1...|\n|    0|sureshkonti| 2.57| 2.57| 2.57|102f1fe84b1b6477f...|1-47cbcbfb782a7e1...|\n|    0|sureshkonti| 1.65| 1.65| 1.65|102f1fe84b1b6477f...|1-2634fd9640c2ca0...|\n|    0|sureshkonti| -5.2| -5.2| -5.2|102f1fe84b1b6477f...|1-0afd70820b3c819...|\n|    0|sureshkonti| 0.14| 0.14| 0.14|102f1fe84b1b6477f...|1-3e2e3aafac8413d...|\n|    0|sureshkonti|  5.4|  5.4|  5.4|102f1fe84b1b6477f...|1-8c904fde3a8ee9d...|\n|    0|sureshkonti|  1.9|  1.9|  1.9|102f1fe84b1b6477f...|1-21466fd46c5fb8a...|\n|    0|sureshkonti| 0.28| 0.28| 0.28|102f1fe84b1b6477f...|1-a2223d9b88a42b0...|\n|    0|sureshkonti|-0.31|-0.31|-0.31|102f1fe84b1b6477f...|1-cee21281ad30e2b...|\n+-----+-----------+-----+-----+-----+--------------------+--------------------+\nonly showing top 20 rows\n\n"
                }
            ], 
            "source": "df=spark.read.load('shake_classification', \"com.cloudant.spark\")\n\ndf.createOrReplaceTempView(\"df\")\nspark.sql(\"SELECT * from df\").show()\n"
        }, 
        {
            "source": "Please create a VectorAssembler which consumed columns X, Y and Z and produces a column \u201cfeatures\u201d\n", 
            "cell_type": "markdown", 
            "metadata": {}
        }, 
        {
            "execution_count": 14, 
            "cell_type": "code", 
            "metadata": {}, 
            "outputs": [], 
            "source": "from pyspark.ml.feature import VectorAssembler\nvectorAssembler = VectorAssembler(inputCols=[\"X\",\"Y\",\"Z\"], outputCol=\"features\")"
        }, 
        {
            "source": "Please insatiate a classifier from the SparkML package and assign it to the classifier variable. Make sure to either\n1.\tRename the \u201cCLASS\u201d column to \u201clabel\u201d or\n2.\tSpecify the label-column correctly to be \u201cCLASS\u201d\n", 
            "cell_type": "markdown", 
            "metadata": {}
        }, 
        {
            "execution_count": 22, 
            "cell_type": "code", 
            "metadata": {}, 
            "outputs": [], 
            "source": "from pyspark.ml.classification import LogisticRegression\n\n#classifier = ###YOUR_CODE_GOES_HERE###\"\nfrom pyspark.ml.feature import StringIndexer\n\nindexer = StringIndexer(inputCol=\"CLASS\", outputCol=\"label\")\n\nlr = LogisticRegression(maxIter=10, regParam=0.3, elasticNetParam=0.8)\nclassifier = lr"
        }, 
        {
            "source": "Let\u2019s train and evaluate\u2026\n", 
            "cell_type": "markdown", 
            "metadata": {}
        }, 
        {
            "execution_count": 23, 
            "cell_type": "code", 
            "metadata": {}, 
            "outputs": [], 
            "source": "from pyspark.ml import Pipeline\npipeline = Pipeline(stages=[indexer, vectorAssembler, classifier])"
        }, 
        {
            "execution_count": 21, 
            "cell_type": "code", 
            "metadata": {}, 
            "outputs": [
                {
                    "output_type": "stream", 
                    "name": "stdout", 
                    "text": "+-----+-----------+-----+-----+-----+--------------------+--------------------+\n|CLASS|   SENSORID|    X|    Y|    Z|                 _id|                _rev|\n+-----+-----------+-----+-----+-----+--------------------+--------------------+\n|    0|sureshkonti| 0.01| 0.01| 0.01|102f1fe84b1b6477f...|1-f9f148dc923770a...|\n|    0|sureshkonti| 0.01| 0.01| 0.01|102f1fe84b1b6477f...|1-f9f148dc923770a...|\n|    0|sureshkonti|  0.0|  0.0|  0.0|102f1fe84b1b6477f...|1-2a25fd372080ae8...|\n|    0|sureshkonti| 0.57| 0.57| 0.57|102f1fe84b1b6477f...|1-69af8055dbcb199...|\n|    0|sureshkonti|-5.96|-5.96|-5.96|102f1fe84b1b6477f...|1-64565388a51cab7...|\n|    0|sureshkonti|-2.68|-2.68|-2.68|102f1fe84b1b6477f...|1-7fb70d4e5d96e25...|\n|    0|sureshkonti| 3.24| 3.24| 3.24|102f1fe84b1b6477f...|1-28f4f7f54b17567...|\n|    0|sureshkonti|-2.21|-2.21|-2.21|102f1fe84b1b6477f...|1-4d791edb0cf57dc...|\n|    0|sureshkonti|-4.28|-4.28|-4.28|102f1fe84b1b6477f...|1-d5ea8240fe4451c...|\n|    0|sureshkonti|-3.97|-3.97|-3.97|102f1fe84b1b6477f...|1-9fa5a9d1ec6d80d...|\n|    0|sureshkonti|-1.93|-1.93|-1.93|102f1fe84b1b6477f...|1-b54d0dc18bca646...|\n|    0|sureshkonti| 3.42| 3.42| 3.42|102f1fe84b1b6477f...|1-0d972d31e17b2b1...|\n|    0|sureshkonti| 2.57| 2.57| 2.57|102f1fe84b1b6477f...|1-47cbcbfb782a7e1...|\n|    0|sureshkonti| 1.65| 1.65| 1.65|102f1fe84b1b6477f...|1-2634fd9640c2ca0...|\n|    0|sureshkonti| -5.2| -5.2| -5.2|102f1fe84b1b6477f...|1-0afd70820b3c819...|\n|    0|sureshkonti| 0.14| 0.14| 0.14|102f1fe84b1b6477f...|1-3e2e3aafac8413d...|\n|    0|sureshkonti|  5.4|  5.4|  5.4|102f1fe84b1b6477f...|1-8c904fde3a8ee9d...|\n|    0|sureshkonti|  1.9|  1.9|  1.9|102f1fe84b1b6477f...|1-21466fd46c5fb8a...|\n|    0|sureshkonti| 0.28| 0.28| 0.28|102f1fe84b1b6477f...|1-a2223d9b88a42b0...|\n|    0|sureshkonti|-0.31|-0.31|-0.31|102f1fe84b1b6477f...|1-cee21281ad30e2b...|\n+-----+-----------+-----+-----+-----+--------------------+--------------------+\nonly showing top 20 rows\n\n"
                }
            ], 
            "source": "df.show()"
        }, 
        {
            "execution_count": 24, 
            "cell_type": "code", 
            "metadata": {}, 
            "outputs": [], 
            "source": "model = pipeline.fit(df)"
        }, 
        {
            "execution_count": 25, 
            "cell_type": "code", 
            "metadata": {}, 
            "outputs": [], 
            "source": "prediction = model.transform(df)"
        }, 
        {
            "execution_count": 26, 
            "cell_type": "code", 
            "metadata": {}, 
            "outputs": [
                {
                    "output_type": "stream", 
                    "name": "stdout", 
                    "text": "+-----+-----------+-----+-----+-----+--------------------+--------------------+-----+-------------------+--------------------+--------------------+----------+\n|CLASS|   SENSORID|    X|    Y|    Z|                 _id|                _rev|label|           features|       rawPrediction|         probability|prediction|\n+-----+-----------+-----+-----+-----+--------------------+--------------------+-----+-------------------+--------------------+--------------------+----------+\n|    0|sureshkonti| 0.01| 0.01| 0.01|102f1fe84b1b6477f...|1-f9f148dc923770a...|  0.0|   [0.01,0.01,0.01]|[2.00477437921908...|[0.88129744651483...|       0.0|\n|    0|sureshkonti| 0.01| 0.01| 0.01|102f1fe84b1b6477f...|1-f9f148dc923770a...|  0.0|   [0.01,0.01,0.01]|[2.00477437921908...|[0.88129744651483...|       0.0|\n|    0|sureshkonti|  0.0|  0.0|  0.0|102f1fe84b1b6477f...|1-2a25fd372080ae8...|  0.0|          (3,[],[])|[2.00477437921908...|[0.88129744651483...|       0.0|\n|    0|sureshkonti| 0.57| 0.57| 0.57|102f1fe84b1b6477f...|1-69af8055dbcb199...|  0.0|   [0.57,0.57,0.57]|[2.00477437921908...|[0.88129744651483...|       0.0|\n|    0|sureshkonti|-5.96|-5.96|-5.96|102f1fe84b1b6477f...|1-64565388a51cab7...|  0.0|[-5.96,-5.96,-5.96]|[2.00477437921908...|[0.88129744651483...|       0.0|\n|    0|sureshkonti|-2.68|-2.68|-2.68|102f1fe84b1b6477f...|1-7fb70d4e5d96e25...|  0.0|[-2.68,-2.68,-2.68]|[2.00477437921908...|[0.88129744651483...|       0.0|\n|    0|sureshkonti| 3.24| 3.24| 3.24|102f1fe84b1b6477f...|1-28f4f7f54b17567...|  0.0|   [3.24,3.24,3.24]|[2.00477437921908...|[0.88129744651483...|       0.0|\n|    0|sureshkonti|-2.21|-2.21|-2.21|102f1fe84b1b6477f...|1-4d791edb0cf57dc...|  0.0|[-2.21,-2.21,-2.21]|[2.00477437921908...|[0.88129744651483...|       0.0|\n|    0|sureshkonti|-4.28|-4.28|-4.28|102f1fe84b1b6477f...|1-d5ea8240fe4451c...|  0.0|[-4.28,-4.28,-4.28]|[2.00477437921908...|[0.88129744651483...|       0.0|\n|    0|sureshkonti|-3.97|-3.97|-3.97|102f1fe84b1b6477f...|1-9fa5a9d1ec6d80d...|  0.0|[-3.97,-3.97,-3.97]|[2.00477437921908...|[0.88129744651483...|       0.0|\n|    0|sureshkonti|-1.93|-1.93|-1.93|102f1fe84b1b6477f...|1-b54d0dc18bca646...|  0.0|[-1.93,-1.93,-1.93]|[2.00477437921908...|[0.88129744651483...|       0.0|\n|    0|sureshkonti| 3.42| 3.42| 3.42|102f1fe84b1b6477f...|1-0d972d31e17b2b1...|  0.0|   [3.42,3.42,3.42]|[2.00477437921908...|[0.88129744651483...|       0.0|\n|    0|sureshkonti| 2.57| 2.57| 2.57|102f1fe84b1b6477f...|1-47cbcbfb782a7e1...|  0.0|   [2.57,2.57,2.57]|[2.00477437921908...|[0.88129744651483...|       0.0|\n|    0|sureshkonti| 1.65| 1.65| 1.65|102f1fe84b1b6477f...|1-2634fd9640c2ca0...|  0.0|   [1.65,1.65,1.65]|[2.00477437921908...|[0.88129744651483...|       0.0|\n|    0|sureshkonti| -5.2| -5.2| -5.2|102f1fe84b1b6477f...|1-0afd70820b3c819...|  0.0|   [-5.2,-5.2,-5.2]|[2.00477437921908...|[0.88129744651483...|       0.0|\n|    0|sureshkonti| 0.14| 0.14| 0.14|102f1fe84b1b6477f...|1-3e2e3aafac8413d...|  0.0|   [0.14,0.14,0.14]|[2.00477437921908...|[0.88129744651483...|       0.0|\n|    0|sureshkonti|  5.4|  5.4|  5.4|102f1fe84b1b6477f...|1-8c904fde3a8ee9d...|  0.0|      [5.4,5.4,5.4]|[2.00477437921908...|[0.88129744651483...|       0.0|\n|    0|sureshkonti|  1.9|  1.9|  1.9|102f1fe84b1b6477f...|1-21466fd46c5fb8a...|  0.0|      [1.9,1.9,1.9]|[2.00477437921908...|[0.88129744651483...|       0.0|\n|    0|sureshkonti| 0.28| 0.28| 0.28|102f1fe84b1b6477f...|1-a2223d9b88a42b0...|  0.0|   [0.28,0.28,0.28]|[2.00477437921908...|[0.88129744651483...|       0.0|\n|    0|sureshkonti|-0.31|-0.31|-0.31|102f1fe84b1b6477f...|1-cee21281ad30e2b...|  0.0|[-0.31,-0.31,-0.31]|[2.00477437921908...|[0.88129744651483...|       0.0|\n+-----+-----------+-----+-----+-----+--------------------+--------------------+-----+-------------------+--------------------+--------------------+----------+\nonly showing top 20 rows\n\n"
                }
            ], 
            "source": "prediction.show()"
        }, 
        {
            "execution_count": 27, 
            "cell_type": "code", 
            "metadata": {}, 
            "outputs": [
                {
                    "execution_count": 27, 
                    "metadata": {}, 
                    "data": {
                        "text/plain": "0.8812974465148378"
                    }, 
                    "output_type": "execute_result"
                }
            ], 
            "source": "from pyspark.ml.evaluation import MulticlassClassificationEvaluator\nbinEval = MulticlassClassificationEvaluator().setMetricName(\"accuracy\") .setPredictionCol(\"prediction\").setLabelCol(\"label\")\n    \nbinEval.evaluate(prediction) "
        }, 
        {
            "source": "If you are happy with the result (I\u2019m happy with > 0.55) please submit your solution to the grader by executing the following cells, please don\u2019t forget to obtain an assignment submission token (secret) from the Courera\u2019s graders web page and paste it to the \u201csecret\u201d variable below, including your email address you\u2019ve used for Coursera. (0.55 means that you are performing better than random guesses)\n", 
            "cell_type": "markdown", 
            "metadata": {}
        }, 
        {
            "execution_count": 28, 
            "cell_type": "code", 
            "metadata": {}, 
            "outputs": [], 
            "source": "!rm -Rf a2_m2.json"
        }, 
        {
            "execution_count": 29, 
            "cell_type": "code", 
            "metadata": {}, 
            "outputs": [], 
            "source": "prediction = prediction.repartition(1)\nprediction.write.json('a2_m2.json')"
        }, 
        {
            "execution_count": 30, 
            "cell_type": "code", 
            "metadata": {}, 
            "outputs": [
                {
                    "output_type": "stream", 
                    "name": "stdout", 
                    "text": "--2019-01-13 20:22:25--  https://raw.githubusercontent.com/romeokienzler/developerWorks/master/coursera/ai/rklib.py\nResolving raw.githubusercontent.com (raw.githubusercontent.com)... 151.101.48.133\nConnecting to raw.githubusercontent.com (raw.githubusercontent.com)|151.101.48.133|:443... connected.\nHTTP request sent, awaiting response... 200 OK\nLength: 2289 (2.2K) [text/plain]\nSaving to: \u2018rklib.py\u2019\n\n100%[======================================>] 2,289       --.-K/s   in 0s      \n\n2019-01-13 20:22:26 (24.2 MB/s) - \u2018rklib.py\u2019 saved [2289/2289]\n\n"
                }
            ], 
            "source": "!rm -f rklib.py\n!wget https://raw.githubusercontent.com/romeokienzler/developerWorks/master/coursera/ai/rklib.py"
        }, 
        {
            "execution_count": 31, 
            "cell_type": "code", 
            "metadata": {}, 
            "outputs": [
                {
                    "output_type": "stream", 
                    "name": "stdout", 
                    "text": "  adding: a2_m2.json/ (stored 0%)\n  adding: a2_m2.json/_SUCCESS (stored 0%)\n  adding: a2_m2.json/._SUCCESS.crc (stored 0%)\n  adding: a2_m2.json/.part-00000-4732966f-1982-4f77-8ba0-1f654f141c6e.json.crc (stored 0%)\n  adding: a2_m2.json/part-00000-4732966f-1982-4f77-8ba0-1f654f141c6e.json (deflated 93%)\n"
                }
            ], 
            "source": "!zip -r a2_m2.json.zip a2_m2.json"
        }, 
        {
            "execution_count": 32, 
            "cell_type": "code", 
            "metadata": {}, 
            "outputs": [], 
            "source": "!base64 a2_m2.json.zip > a2_m2.json.zip.base64"
        }, 
        {
            "execution_count": 33, 
            "cell_type": "code", 
            "metadata": {}, 
            "outputs": [
                {
                    "output_type": "stream", 
                    "name": "stderr", 
                    "text": "Exception ignored in: <object repr() failed>\nTraceback (most recent call last):\n  File \"/usr/local/src/spark21master/spark/python/pyspark/ml/wrapper.py\", line 76, in __del__\n    SparkContext._active_spark_context._gateway.detach(self._java_obj)\nAttributeError: 'StringIndexer' object has no attribute '_java_obj'\n"
                }, 
                {
                    "output_type": "stream", 
                    "name": "stdout", 
                    "text": "Submission successful, please check on the coursera grader page for the status\n-------------------------\n{\"elements\":[{\"itemId\":\"LTL4F\",\"id\":\"f_F-qCtuEei_fRLwaVDk3g~LTL4F~cg5SxRejEemu7RI8YeKm8g\",\"courseId\":\"f_F-qCtuEei_fRLwaVDk3g\"}],\"paging\":{},\"linked\":{}}\n-------------------------\n"
                }
            ], 
            "source": "from rklib import submit\nkey = \"J3sDL2J8EeiaXhILFWw2-g\"\npart = \"G4P6f\"\nemail = \"suresh.konti@yahoo.com\"\nsecret = \"duOtErs8lhSzjMcs\"\n\nwith open('a2_m2.json.zip.base64', 'r') as myfile:\n    data=myfile.read()\nsubmit(email, secret, key, part, [part], data)"
        }, 
        {
            "execution_count": null, 
            "cell_type": "code", 
            "metadata": {}, 
            "outputs": [], 
            "source": ""
        }
    ], 
    "metadata": {
        "kernelspec": {
            "display_name": "Python 3.5 with Spark 2.1", 
            "name": "python3-spark21", 
            "language": "python"
        }, 
        "language_info": {
            "mimetype": "text/x-python", 
            "nbconvert_exporter": "python", 
            "version": "3.5.4", 
            "name": "python", 
            "file_extension": ".py", 
            "pygments_lexer": "ipython3", 
            "codemirror_mode": {
                "version": 3, 
                "name": "ipython"
            }
        }
    }, 
    "nbformat": 4
}