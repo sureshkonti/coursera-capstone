{
    "nbformat_minor": 1, 
    "cells": [
        {
            "source": "# Describe Data and Methodology to be used", 
            "cell_type": "markdown", 
            "metadata": {
                "collapsed": true
            }
        }, 
        {
            "source": "## The output from data will be the following:", 
            "cell_type": "markdown", 
            "metadata": {}
        }, 
        {
            "source": "   1. List of different Neighborhoods\n   2. How the Neighborhoods compare to each other\n   3. Business that perform better in each of the Neighborhoods", 
            "cell_type": "markdown", 
            "metadata": {}
        }, 
        {
            "source": "## Methodology to be used", 
            "cell_type": "markdown", 
            "metadata": {}
        }, 
        {
            "source": "The data to begin the analysis will be obtained from Wikipedia:\nhttps://en.wikipedia.org/wiki/BH_postcode_area\n    ", 
            "cell_type": "markdown", 
            "metadata": {}
        }, 
        {
            "source": "#### This link contains the postal-code district, Local-town and Neighborhoods.\n#### The postal code can be used to obtain the Latitude and Longitude location.\n#### Local Town can be used to group areas\n#### The neigborhoods contain the venues that we need to explore. \n#### The venues details will be obtained using Foursquare API credentials.", 
            "cell_type": "markdown", 
            "metadata": {}
        }
    ], 
    "metadata": {
        "kernelspec": {
            "display_name": "Python 3.5", 
            "name": "python3", 
            "language": "python"
        }, 
        "language_info": {
            "mimetype": "text/x-python", 
            "nbconvert_exporter": "python", 
            "version": "3.5.5", 
            "name": "python", 
            "file_extension": ".py", 
            "pygments_lexer": "ipython3", 
            "codemirror_mode": {
                "version": 3, 
                "name": "ipython"
            }
        }
    }, 
    "nbformat": 4
}