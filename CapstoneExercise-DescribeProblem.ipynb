{
    "nbformat_minor": 1, 
    "cells": [
        {
            "source": "# Problem Statement", 
            "cell_type": "markdown", 
            "metadata": {
                "collapsed": true
            }
        }, 
        {
            "source": "### A friend would like to re-locate to UnitedKingdom, specifically to the City\n### of Bournmouth. He wants to settle down there and have a stable income.\n### The request is explore the city if Bournmouth and come-up with different\n### neighborhoods in the city and the top few business that work best in the city.", 
            "cell_type": "markdown", 
            "metadata": {}
        }
    ], 
    "metadata": {
        "kernelspec": {
            "display_name": "Python 3.5", 
            "name": "python3", 
            "language": "python"
        }, 
        "language_info": {
            "mimetype": "text/x-python", 
            "nbconvert_exporter": "python", 
            "version": "3.5.5", 
            "name": "python", 
            "file_extension": ".py", 
            "pygments_lexer": "ipython3", 
            "codemirror_mode": {
                "version": 3, 
                "name": "ipython"
            }
        }
    }, 
    "nbformat": 4
}