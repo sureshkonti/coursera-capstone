{
    "nbformat_minor": 1, 
    "cells": [
        {
            "source": "# Problem Statement", 
            "cell_type": "markdown", 
            "metadata": {
                "collapsed": true
            }
        }, 
        {
            "source": "    Neighbour Family has mentioned that they have an opportunity to re-locate to United Kingdom, \n    to the City of Bournmouth. This will entail a pay rasie and better Education for the Kids.\n    The Family is a bit nervous and wants to know the City a bit better before they accept the offer.\n\n    The request from the Family is to explore the city of Bournmouth a bit better than Googling the \n    location. They want to know what are the Neighborhoods and what do people generally do. What are the\n    common business. Is it possible to setup a business and if so what the Family needs to know.\n", 
            "cell_type": "markdown", 
            "metadata": {}
        }, 
        {
            "source": "# Questions:", 
            "cell_type": "markdown", 
            "metadata": {}
        }, 
        {
            "source": "    1. Explore the Neighborhood and determine if there is any value in migrating to this location. \n    (If there are too few opportunities, this is not the right city)\n    2. Cluster the like Neighborhoods and determine the top few venues for each Neighborhood\n    3. What are the recommendations for a business opportunities.\n    ( To find the top 5 business that local population prefer)\n                                                                                                    ", 
            "cell_type": "markdown", 
            "metadata": {}
        }, 
        {
            "source": "# Target Audience", 
            "cell_type": "markdown", 
            "metadata": {}
        }, 
        {
            "source": "    The analysis is targetted for the Family in question. \n    However this analysis can be generalized to any one who is looking to explore the City of Bournmouth.", 
            "cell_type": "markdown", 
            "metadata": {}
        }
    ], 
    "metadata": {
        "kernelspec": {
            "display_name": "Python 3.5", 
            "name": "python3", 
            "language": "python"
        }, 
        "language_info": {
            "mimetype": "text/x-python", 
            "nbconvert_exporter": "python", 
            "version": "3.5.5", 
            "name": "python", 
            "file_extension": ".py", 
            "pygments_lexer": "ipython3", 
            "codemirror_mode": {
                "version": 3, 
                "name": "ipython"
            }
        }
    }, 
    "nbformat": 4
}